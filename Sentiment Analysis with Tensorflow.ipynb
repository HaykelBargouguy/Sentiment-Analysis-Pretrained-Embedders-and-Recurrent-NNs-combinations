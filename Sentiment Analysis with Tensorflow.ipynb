{
 "cells": [
  {
   "cell_type": "markdown",
   "metadata": {},
   "source": [
    "<div style=\"color:white; background:black; text-align: center; font-size: 16px; padding: 1px;\">\n",
    "    <h2>IMBD Movies' Reviews Sentiment Analysis\n",
    "    <h4><span style=\"color:blue;\">Tensorflow</span></h4>\n",
    "    <p style=\"position:absolute; bottom:8px; right:20px;\">7 May</p>\n",
    "</div>\n"
   ]
  },
  {
   "cell_type": "markdown",
   "metadata": {
    "id": "ocgl5jxlNZlS",
    "jp-MarkdownHeadingCollapsed": true,
    "tags": []
   },
   "source": [
    "# **Imports**"
   ]
  },
  {
   "cell_type": "code",
   "execution_count": 2,
   "metadata": {
    "id": "3CwHxhyjMwwQ",
    "tags": []
   },
   "outputs": [],
   "source": [
    "import pandas as pd\n",
    "import numpy as np\n",
    "import re\n",
    "import time\n",
    "import nltk\n",
    "from nltk.corpus import stopwords\n",
    "from numpy import array\n",
    "from keras.preprocessing.text import one_hot\n",
    "from keras.preprocessing.sequence import pad_sequences\n",
    "from keras.models import Sequential\n",
    "from keras.layers import Activation, Dropout, Dense\n",
    "from keras.layers import Flatten\n",
    "from keras.layers import Conv1D\n",
    "from keras.layers import GlobalMaxPooling1D\n",
    "from keras.layers import LSTM\n",
    "from keras.layers import Embedding\n",
    "from sklearn.model_selection import train_test_split\n",
    "from keras.preprocessing.text import Tokenizer\n",
    "from tensorflow.keras.preprocessing.text import Tokenizer\n",
    "from tensorflow.keras.preprocessing.sequence import pad_sequences\n",
    "from numpy import asarray, zeros\n",
    "from keras.models import Sequential\n",
    "from keras.layers import Embedding, Conv1D, MaxPooling1D, Flatten, Dense, LSTM, GRU\n",
    "from keras.losses import binary_crossentropy\n",
    "from keras.optimizers import Adam\n",
    "import time\n",
    "from keras.models import Sequential\n",
    "from keras.layers import Embedding, Flatten, Dense\n",
    "from keras.losses import binary_crossentropy\n",
    "from keras.optimizers import Adam\n",
    "\n",
    "\n",
    "import seaborn as sns\n",
    "import matplotlib.pyplot as plt\n",
    "import pandas as pd\n",
    "import numpy as np\n",
    "import re\n",
    "import nltk\n",
    "from nltk.corpus import stopwords\n",
    "from numpy import array\n",
    "from tensorflow.keras.preprocessing.text import one_hot\n",
    "from tensorflow.keras.preprocessing.sequence import pad_sequences\n",
    "from tensorflow.keras.models import Sequential\n",
    "from tensorflow.keras.layers import Activation, Dropout, Dense\n",
    "from tensorflow.keras.layers import Flatten, Conv1D, GlobalMaxPooling1D, LSTM , Embedding\n",
    "from sklearn.model_selection import train_test_split\n",
    "from tensorflow.keras.preprocessing.text import Tokenizer\n",
    "\n",
    "import warnings \n",
    "\n",
    "warnings.filterwarnings('ignore') "
   ]
  },
  {
   "cell_type": "markdown",
   "metadata": {
    "id": "iVr6ank0OO-K",
    "tags": []
   },
   "source": [
    "# **Data Loading**"
   ]
  },
  {
   "cell_type": "code",
   "execution_count": 7,
   "metadata": {
    "colab": {
     "base_uri": "https://localhost:8080/",
     "height": 666
    },
    "id": "68id8FDmNiRR",
    "outputId": "8220963a-570d-452c-d5b7-f70e5ebd8839",
    "tags": []
   },
   "outputs": [
    {
     "name": "stdout",
     "output_type": "stream",
     "text": [
      "la dimension de imdb_df  : (50000, 2)\n",
      "Les valeurs nulls  : False\n",
      "                                              review sentiment\n",
      "0  One of the other reviewers has mentioned that ...  positive\n",
      "1  A wonderful little production. <br /><br />The...  positive\n",
      "2  I thought this was a wonderful way to spend ti...  positive\n",
      "3  Basically there's a family where a little boy ...  negative\n",
      "4  Petter Mattei's \"Love in the Time of Money\" is...  positive\n"
     ]
    },
    {
     "data": {
      "image/png": "[encoded data removed]",
      "text/plain": [
       "<Figure size 640x480 with 1 Axes>"
      ]
     },
     "metadata": {},
     "output_type": "display_data"
    },
    {
     "name": "stdout",
     "output_type": "stream",
     "text": [
      "4ème review :\n",
      "Basically there's a family where a little boy (Jake) thinks there's a zombie in his closet & his parents are fighting all the time.<br /><br />This movie is slower than a soap opera... and suddenly, Jake decides to become Rambo and kill the zombie.<br /><br />OK, first of all when you're going to make a film you must Decide if its a thriller or a drama! As a drama the movie is watchable. Parents are divorcing & arguing like in real life. And then we have Jake with his closet which totally ruins all the film! I expected to see a BOOGEYMAN similar movie, and instead i watched a drama with some meaningless thriller spots.<br /><br />3 out of 10 just for the well playing parents & descent dialogs. As for the shots with Jake: just ignore them.\n"
     ]
    }
   ],
   "source": [
    "movie_reviews = pd.read_csv('IMDB Dataset.csv')\n",
    "\n",
    "print('la dimension de imdb_df  :' , movie_reviews.shape)\n",
    "\n",
    "print(\"Les valeurs nulls  :\", movie_reviews.isnull().values.any())\n",
    "\n",
    "\n",
    "print(movie_reviews.head())\n",
    "\n",
    "sns.countplot(x='sentiment', data=movie_reviews)\n",
    "plt.title('Distribution des sentiments')\n",
    "plt.show()\n",
    "\n",
    "print(\"4ème review :\")\n",
    "print(movie_reviews['review'].iloc[3])"
   ]
  },
  {
   "cell_type": "markdown",
   "metadata": {
    "id": "O2LjoBkdYtDP",
    "tags": []
   },
   "source": [
    "# **Data processing**"
   ]
  },
  {
   "cell_type": "markdown",
   "metadata": {
    "id": "Ko67nQxsSnLs"
   },
   "source": [
    "**=>Les reiew contiennent des symboles commele <></> , des ponctuations et des nombres  donc on doit faire une data cleaning pour ameliorer la qualite de notre data donc les resultats de notre molele**"
   ]
  },
  {
   "cell_type": "code",
   "execution_count": 8,
   "metadata": {
    "id": "aegoF_3hSGd7",
    "tags": []
   },
   "outputs": [],
   "source": [
    "def preprocess_text(sen):\n",
    " # Removing html tags\n",
    " sentence = remove_tags(sen)\n",
    " # Remove punctuations and numbers\n",
    " sentence = re.sub('[^a-zA-Z]', ' ', sentence)\n",
    " # Single character removal\n",
    " sentence = re.sub(r\"\\s+[a-zA-Z]\\s+\", ' ', sentence)\n",
    " # Removing multiple spaces\n",
    " sentence = re.sub(r'\\s+', ' ', sentence)\n",
    " return sentence\n",
    "TAG_RE = re.compile(r'<[^>]+>')\n",
    "def remove_tags(text):\n",
    " return TAG_RE.sub('', text)"
   ]
  },
  {
   "cell_type": "markdown",
   "metadata": {
    "id": "-lM1M6FZXAku"
   },
   "source": [
    "### Fonction de prétraitement de texte\n",
    "\n",
    "Ce code Python définit une fonction `preprocess_text` utilisée pour le prétraitement du texte. Voici une explication détaillée de chaque étape :\n",
    "\n",
    "1. **Suppression des balises HTML** :\n",
    "   La fonction `preprocess_text` commence par appeler une fonction `remove_tags` pour supprimer toutes les balises HTML du texte.\n",
    "\n",
    "2. **Nettoyage du texte avec des expressions régulières** :\n",
    "   - `re.sub('[^a-zA-Z]', ' ', sentence)`: Cette ligne remplace tous les caractères qui ne sont pas des lettres (majuscules ou minuscules) par un espace.\n",
    "   - `re.sub(r\"\\s+[a-zA-Z]\\s+\", ' ', sentence)`: Cette ligne supprime les caractères isolés entourés d'espaces.\n",
    "   - `re.sub(r'\\s+', ' ', sentence)`: Cette ligne supprime tous les espaces multiples et les remplace par un seul espace.\n",
    "\n",
    "3. **Retour du texte prétraité** :\n",
    "   Le texte prétraité est renvoyé à la fin de la fonction.\n",
    "\n",
    "### Expression régulière pour supprimer les balises HTML\n",
    "\n",
    "Une expression régulière `TAG_RE` est compilée avec `re.compile()` pour supprimer les balises HTML du texte. Cette expression régulière correspond à `<[^>]+>`, ce qui signifie qu'elle correspond à toute séquence de caractères qui commence par `<` et se termine par `>`, supprimant ainsi toutes les balises HTML du texte.\n",
    "\n",
    "### Fonction pour supprimer les balises HTML\n",
    "\n",
    "La fonction `remove_tags` prend une chaîne de texte en entrée et utilise l'expression régulière compilée `TAG_RE` pour supprimer toutes les balises HTML du texte en les remplaçant par une chaîne vide.\n",
    "\n",
    "En résumé, ce code effectue un prétraitement du texte en supprimant les balises HTML et en appliquant diverses substitutions avec des expressions régulières pour nettoyer et normaliser les données textuelles.\n"
   ]
  },
  {
   "cell_type": "code",
   "execution_count": 9,
   "metadata": {
    "id": "d5WLq-ZlXBSR",
    "tags": []
   },
   "outputs": [],
   "source": [
    "X = []\n",
    "sentences = list(movie_reviews['review'])\n",
    "for sen in sentences:\n",
    " X.append(preprocess_text(sen))"
   ]
  },
  {
   "cell_type": "code",
   "execution_count": 20,
   "metadata": {
    "colab": {
     "base_uri": "https://localhost:8080/"
    },
    "id": "Pu5h4h1UXOut",
    "outputId": "8c98664e-3cb2-4b56-b5d2-16a1b28fe0bd",
    "tags": []
   },
   "outputs": [
    {
     "data": {
      "text/plain": [
       "50000"
      ]
     },
     "execution_count": 20,
     "metadata": {},
     "output_type": "execute_result"
    }
   ],
   "source": [
    "len(X)"
   ]
  },
  {
   "cell_type": "code",
   "execution_count": 21,
   "metadata": {
    "colab": {
     "base_uri": "https://localhost:8080/"
    },
    "id": "hRUG4ZLBXYEV",
    "outputId": "ce41ffaf-0767-475f-9b29-f13a9848ab96",
    "tags": []
   },
   "outputs": [
    {
     "name": "stdout",
     "output_type": "stream",
     "text": [
      "Basically there a family where little boy Jake thinks there a zombie in his closet his parents are fighting all the time This movie is slower than soap opera and suddenly Jake decides to become Rambo and kill the zombie OK first of all when you re going to make film you must Decide if its thriller or drama As drama the movie is watchable Parents are divorcing arguing like in real life And then we have Jake with his closet which totally ruins all the film expected to see BOOGEYMAN similar movie and instead watched drama with some meaningless thriller spots out of just for the well playing parents descent dialogs As for the shots with Jake just ignore them \n"
     ]
    }
   ],
   "source": [
    "print(X[3])"
   ]
  },
  {
   "cell_type": "code",
   "execution_count": 10,
   "metadata": {
    "id": "KE45-CplXsz2",
    "tags": []
   },
   "outputs": [],
   "source": [
    "y = movie_reviews['sentiment']\n",
    "y = np.array(list(map(lambda x: 1 if x==\"positive\" else 0, y)))"
   ]
  },
  {
   "cell_type": "code",
   "execution_count": 23,
   "metadata": {
    "colab": {
     "base_uri": "https://localhost:8080/"
    },
    "id": "wrUGsIpZX5gB",
    "outputId": "2a8718fd-92fa-4471-ce64-d67299e6dce5",
    "tags": []
   },
   "outputs": [
    {
     "data": {
      "text/plain": [
       "array([1, 1, 1, ..., 0, 0, 0])"
      ]
     },
     "execution_count": 23,
     "metadata": {},
     "output_type": "execute_result"
    }
   ],
   "source": [
    "y"
   ]
  },
  {
   "cell_type": "code",
   "execution_count": 11,
   "metadata": {
    "colab": {
     "base_uri": "https://localhost:8080/"
    },
    "id": "Gi_WSyFzX6Nh",
    "outputId": "f0881d9e-99f0-45ba-9e83-9915ddce4816",
    "tags": []
   },
   "outputs": [
    {
     "name": "stdout",
     "output_type": "stream",
     "text": [
      "2175\n"
     ]
    }
   ],
   "source": [
    "X_train, X_test, y_train, y_test = train_test_split(X, y,test_size=0.20, random_state=42)\n",
    "print(len(X_train[0]))"
   ]
  },
  {
   "cell_type": "markdown",
   "metadata": {
    "id": "Uc0HfpYWZE8a",
    "tags": []
   },
   "source": [
    "# **Embedding Layer**"
   ]
  },
  {
   "cell_type": "code",
   "execution_count": 18,
   "metadata": {
    "colab": {
     "base_uri": "https://localhost:8080/"
    },
    "id": "JTqvGwRzY3iR",
    "outputId": "343c03e1-878c-460d-8926-7c7614e9b27c",
    "tags": []
   },
   "outputs": [],
   "source": [
    "tokenizer = Tokenizer(num_words=5000)\n",
    "tokenizer.fit_on_texts(X_train)\n",
    "X_train = tokenizer.texts_to_sequences(X_train)\n",
    "X_test = tokenizer.texts_to_sequences(X_test)"
   ]
  },
  {
   "cell_type": "code",
   "execution_count": 11,
   "metadata": {
    "colab": {
     "base_uri": "https://localhost:8080/"
    },
    "id": "2trHuqYMZJ3f",
    "outputId": "6bc8be38-0d25-4dfe-c815-2cf4433f01e5",
    "tags": []
   },
   "outputs": [
    {
     "name": "stdout",
     "output_type": "stream",
     "text": [
      "92547\n"
     ]
    }
   ],
   "source": [
    "print(len(tokenizer.word_index)+1)"
   ]
  },
  {
   "cell_type": "code",
   "execution_count": 12,
   "metadata": {
    "colab": {
     "base_uri": "https://localhost:8080/"
    },
    "id": "n9cT3LPbZOnQ",
    "outputId": "6c7e97ff-d0fe-431e-d464-28aefefd85d8",
    "tags": []
   },
   "outputs": [
    {
     "name": "stdout",
     "output_type": "stream",
     "text": [
      "92547\n"
     ]
    }
   ],
   "source": [
    "# Adding 1 because of reserved 0 index\n",
    "vocab_size = len(tokenizer.word_index) + 1\n",
    "print(vocab_size)\n",
    "maxlen = 100\n",
    "X_train = pad_sequences(X_train, padding='post', maxlen=maxlen)\n",
    "X_test = pad_sequences(X_test, padding='post', maxlen=maxlen)"
   ]
  },
  {
   "cell_type": "code",
   "execution_count": 13,
   "metadata": {
    "colab": {
     "base_uri": "https://localhost:8080/"
    },
    "id": "zWt1mySEfjAE",
    "outputId": "f7ea6c20-290e-4d2e-e9b4-6df48c388890",
    "tags": []
   },
   "outputs": [
    {
     "name": "stdout",
     "output_type": "stream",
     "text": [
      "[   4    1  296  140 2854    2  405  614    1  263    5 3514  977    4\n",
      "   25   37   11 1237  215   62    2   35    5   27  217   24  189 1430\n",
      "    7 1068   15 4868   81    1  221   63  351   64   52   24    4 3547\n",
      "   13    6   19  192    4  859 3430 1720   17   23    4  158  194  175\n",
      "  106    9 1604  461   71  218    4  321    2 3431   31   20   47   68\n",
      " 1844 4668   11    6 1365    8   16    5 3475 1990   14   59    1 2380\n",
      "  460  518    2  170 2524 2698 1745    4  573    6   33    1 3750  198\n",
      "  345 3812]\n"
     ]
    }
   ],
   "source": [
    "# print(len(X_train[0]))\n",
    "print(X_train[0])"
   ]
  },
  {
   "cell_type": "code",
   "execution_count": 14,
   "metadata": {
    "id": "JCsnS8dEkDaI",
    "tags": []
   },
   "outputs": [],
   "source": [
    "from numpy import array\n",
    "from numpy import asarray\n",
    "from numpy import zeros\n",
    "embeddings_dictionary = dict()\n",
    "glove_file = open(\"glove.6B.100d.txt\", encoding=\"utf8\")\n",
    "for line in glove_file:\n",
    " records = line.split()\n",
    " word = records[0]\n",
    " vector_dimensions = asarray(records[1:],dtype='float32')\n",
    " embeddings_dictionary [word] = vector_dimensions\n",
    "glove_file.close()"
   ]
  },
  {
   "cell_type": "code",
   "execution_count": 15,
   "metadata": {
    "colab": {
     "base_uri": "https://localhost:8080/"
    },
    "id": "mvZX4Dp75Pvb",
    "outputId": "f8841d8b-3684-4ad8-c6b5-f8966c5125d6",
    "tags": []
   },
   "outputs": [
    {
     "data": {
      "text/plain": [
       "(100,)"
      ]
     },
     "execution_count": 15,
     "metadata": {},
     "output_type": "execute_result"
    }
   ],
   "source": [
    "embeddings_dictionary['hello'].shape"
   ]
  },
  {
   "cell_type": "code",
   "execution_count": 16,
   "metadata": {
    "id": "iu57f4zwkZDA",
    "tags": []
   },
   "outputs": [],
   "source": [
    "embedding_matrix = zeros((vocab_size, 100))\n",
    "for word, index in tokenizer.word_index.items():\n",
    " embedding_vector = embeddings_dictionary.get(word)\n",
    " if embedding_vector is not None:\n",
    "  embedding_matrix[index] = embedding_vector"
   ]
  },
  {
   "cell_type": "code",
   "execution_count": 17,
   "metadata": {
    "colab": {
     "base_uri": "https://localhost:8080/"
    },
    "id": "72su85Xk3Qe4",
    "outputId": "b43d37cc-7ce9-446e-a4b2-da8ac10d14c5",
    "tags": []
   },
   "outputs": [
    {
     "data": {
      "text/plain": [
       "0.05695100128650665"
      ]
     },
     "execution_count": 17,
     "metadata": {},
     "output_type": "execute_result"
    }
   ],
   "source": [
    "embedding_matrix[100][0]"
   ]
  },
  {
   "cell_type": "markdown",
   "metadata": {
    "id": "2c5o4fYf8Nev",
    "tags": []
   },
   "source": [
    "## **Simple NN**"
   ]
  },
  {
   "cell_type": "code",
   "execution_count": 18,
   "metadata": {
    "colab": {
     "base_uri": "https://localhost:8080/"
    },
    "id": "Gxx-V1Kx5AVK",
    "outputId": "02c98fe2-ee84-42ae-b281-fff951f16f48",
    "tags": []
   },
   "outputs": [
    {
     "name": "stdout",
     "output_type": "stream",
     "text": [
      "WARNING:tensorflow:From C:\\Users\\HAYKEL BARGUGUI\\anaconda3\\Lib\\site-packages\\keras\\src\\backend.py:873: The name tf.get_default_graph is deprecated. Please use tf.compat.v1.get_default_graph instead.\n",
      "\n",
      "WARNING:tensorflow:From C:\\Users\\HAYKEL BARGUGUI\\anaconda3\\Lib\\site-packages\\keras\\src\\optimizers\\__init__.py:309: The name tf.train.Optimizer is deprecated. Please use tf.compat.v1.train.Optimizer instead.\n",
      "\n",
      "Epoch 1/6\n",
      "WARNING:tensorflow:From C:\\Users\\HAYKEL BARGUGUI\\anaconda3\\Lib\\site-packages\\keras\\src\\utils\\tf_utils.py:492: The name tf.ragged.RaggedTensorValue is deprecated. Please use tf.compat.v1.ragged.RaggedTensorValue instead.\n",
      "\n",
      "WARNING:tensorflow:From C:\\Users\\HAYKEL BARGUGUI\\anaconda3\\Lib\\site-packages\\keras\\src\\engine\\base_layer_utils.py:384: The name tf.executing_eagerly_outside_functions is deprecated. Please use tf.compat.v1.executing_eagerly_outside_functions instead.\n",
      "\n",
      "250/250 [==============================] - 1s 2ms/step - loss: 0.6076 - acc: 0.6678 - val_loss: 0.5437 - val_acc: 0.7220\n",
      "Epoch 2/6\n",
      "250/250 [==============================] - 0s 1ms/step - loss: 0.4983 - acc: 0.7581 - val_loss: 0.5281 - val_acc: 0.7374\n",
      "Epoch 3/6\n",
      "250/250 [==============================] - 0s 1ms/step - loss: 0.4678 - acc: 0.7768 - val_loss: 0.5296 - val_acc: 0.7381\n",
      "Epoch 4/6\n",
      "250/250 [==============================] - 0s 2ms/step - loss: 0.4386 - acc: 0.7947 - val_loss: 0.5431 - val_acc: 0.7335\n",
      "Epoch 5/6\n",
      "250/250 [==============================] - 0s 1ms/step - loss: 0.4223 - acc: 0.8049 - val_loss: 0.5714 - val_acc: 0.7246\n",
      "Epoch 6/6\n",
      "250/250 [==============================] - 0s 1ms/step - loss: 0.4112 - acc: 0.8132 - val_loss: 0.5309 - val_acc: 0.7474\n",
      "Training time for modelsnn : 2.94 secondes\n"
     ]
    }
   ],
   "source": [
    "# Création du modèle séquentiel\n",
    "modelsnn = Sequential()\n",
    "\n",
    "# Ajout des couches au modèle\n",
    "modelsnn.add(Embedding(vocab_size, 100, weights=[embedding_matrix], input_length=maxlen, trainable=False))\n",
    "modelsnn.add(Flatten())\n",
    "modelsnn.add(Dense(units=1, activation='sigmoid'))\n",
    "\n",
    "# Compilation du modèle\n",
    "modelsnn.compile(loss=binary_crossentropy, optimizer='adam', metrics=['acc'])\n",
    "\n",
    "\n",
    "start_time = time.time()\n",
    "\n",
    "# Entraînement du modèle\n",
    "history = modelsnn.fit(X_train, y_train,\n",
    "          epochs=6,\n",
    "          batch_size=128,\n",
    "          verbose=1,\n",
    "          validation_split=0.2)\n",
    "\n",
    "\n",
    "end_time = time.time()\n",
    "train_time = end_time - start_time\n",
    "print(\"Training time for modelsnn : {:.2f} secondes\".format(train_time))"
   ]
  },
  {
   "cell_type": "markdown",
   "metadata": {
    "id": "hxRMdnWN8EJ1",
    "tags": []
   },
   "source": [
    "### Explication de la création de la couche d'embedding dans Keras\n",
    "\n",
    "La ligne de code `Embedding(vocab_size, 100, weights=[embedding_matrix], input_length=maxlen, trainable=False)` crée une couche d'embedding dans un modèle de réseau de neurones avec Keras. Voici une explication détaillée de chaque argument :\n",
    "\n",
    "- `Embedding`: C'est la classe Keras pour créer une couche d'embedding.\n",
    "\n",
    "- `vocab_size`: C'est la taille du vocabulaire, c'est-à-dire le nombre total de mots uniques dans votre ensemble de données. Cette valeur est utilisée pour déterminer la taille de la matrice d'embedding.\n",
    "\n",
    "- `100`: C'est la dimension des embeddings. Chaque mot du vocabulaire sera représenté par un vecteur de 100 dimensions.\n",
    "\n",
    "- `weights=[embedding_matrix]`: Cet argument spécifie les poids de la couche d'embedding. Dans ce cas, `embedding_matrix` contient les embeddings pré-entraînés chargés à partir de GloVe. Cela signifie que les embeddings de cette couche seront initialisés avec les embeddings GloVe et seront gelés (non modifiables) pendant l'entraînement.\n",
    "\n",
    "- `input_length=maxlen`: C'est la longueur maximale des séquences d'entrée. Toutes les séquences plus longues seront tronquées et toutes les séquences plus courtes seront remplies de zéros pour correspondre à cette longueur maximale. `maxlen` est une variable que vous devez définir auparavant et qui représente la longueur maximale des séquences dans vos données.\n",
    "\n",
    "- `trainable=False`: Cet argument indique si les embeddings de cette couche sont entraînables ou non. Dans ce cas, les embeddings sont fixés à ceux pré-entraînés à partir de GloVe et ne seront pas modifiés pendant l'entraînement du modèle.\n",
    "\n",
    "En résumé, cette ligne de code crée une couche d'embedding dans le modèle, en utilisant les embeddings pré-entraînés de GloVe pour représenter les mots du vocabulaire. Ces embeddings sont gelés pendant l'entraînement, ce qui signifie qu'ils ne seront pas modifiés, et la longueur maximale des séquences d'entrée est spécifiée pour adapter les données d'entrée au format attendu par cette couche d'embedding.\n"
   ]
  },
  {
   "cell_type": "code",
   "execution_count": 19,
   "metadata": {
    "colab": {
     "base_uri": "https://localhost:8080/"
    },
    "id": "QO6BG0Ql60IB",
    "outputId": "4951c5e9-fe98-4f03-991c-94695225f06e",
    "tags": []
   },
   "outputs": [
    {
     "name": "stdout",
     "output_type": "stream",
     "text": [
      "313/313 [==============================] - 0s 760us/step - loss: 0.5321 - acc: 0.7459\n",
      "Test Loss: 0.5321275591850281\n",
      "Test Accuracy: 0.7458999752998352\n"
     ]
    }
   ],
   "source": [
    "score = modelsnn.evaluate(X_test, y_test, verbose=1)\n",
    "print(\"Test Loss:\", score[0])\n",
    "print(\"Test Accuracy:\", score[1])"
   ]
  },
  {
   "cell_type": "code",
   "execution_count": 20,
   "metadata": {
    "colab": {
     "base_uri": "https://localhost:8080/",
     "height": 927
    },
    "id": "XKFBJp4i65lG",
    "outputId": "b6db5069-d5b7-4436-80fd-0f8c569cb8a2",
    "tags": []
   },
   "outputs": [
    {
     "data": {
      "image/png": "[encoded data removed]",
      "text/plain": [
       "<Figure size 640x480 with 1 Axes>"
      ]
     },
     "metadata": {},
     "output_type": "display_data"
    },
    {
     "data": {
      "image/png": "[encoded data removed]",
      "text/plain": [
       "<Figure size 640x480 with 1 Axes>"
      ]
     },
     "metadata": {},
     "output_type": "display_data"
    }
   ],
   "source": [
    "plt.plot(history.history['acc'])\n",
    "plt.plot(history.history['val_acc'])\n",
    "plt.title('model accuracy')\n",
    "plt.ylabel('accuracy')\n",
    "plt.xlabel('epoch')\n",
    "plt.legend(['train','test'], loc='upper left')\n",
    "plt.show()\n",
    "plt.plot(history.history['loss'])\n",
    "plt.plot(history.history['val_loss'])\n",
    "plt.title('model loss')\n",
    "plt.ylabel('loss')\n",
    "plt.xlabel('epoch')\n",
    "plt.legend(['train','test'], loc='upper left')\n",
    "plt.show()"
   ]
  },
  {
   "cell_type": "markdown",
   "metadata": {
    "id": "f3GpX0k28Jls",
    "tags": []
   },
   "source": [
    "## **CNN**"
   ]
  },
  {
   "cell_type": "code",
   "execution_count": 21,
   "metadata": {
    "colab": {
     "base_uri": "https://localhost:8080/"
    },
    "id": "VTBkd7I66-D7",
    "outputId": "233260fe-c286-43f3-c9b5-68f631d5d9e7",
    "tags": []
   },
   "outputs": [
    {
     "name": "stdout",
     "output_type": "stream",
     "text": [
      "WARNING:tensorflow:From C:\\Users\\HAYKEL BARGUGUI\\anaconda3\\Lib\\site-packages\\keras\\src\\backend.py:6642: The name tf.nn.max_pool is deprecated. Please use tf.nn.max_pool2d instead.\n",
      "\n",
      "Epoch 1/6\n",
      "250/250 [==============================] - 18s 69ms/step - loss: 0.5323 - acc: 0.7172 - val_loss: 0.3741 - val_acc: 0.8345\n",
      "Epoch 2/6\n",
      "250/250 [==============================] - 17s 68ms/step - loss: 0.3278 - acc: 0.8599 - val_loss: 0.3493 - val_acc: 0.8510\n",
      "Epoch 3/6\n",
      "250/250 [==============================] - 17s 67ms/step - loss: 0.2598 - acc: 0.8942 - val_loss: 0.3363 - val_acc: 0.8569\n",
      "Epoch 4/6\n",
      "250/250 [==============================] - 17s 67ms/step - loss: 0.1973 - acc: 0.9235 - val_loss: 0.3747 - val_acc: 0.8462\n",
      "Epoch 5/6\n",
      "250/250 [==============================] - 17s 67ms/step - loss: 0.1339 - acc: 0.9551 - val_loss: 0.3877 - val_acc: 0.8446\n",
      "Epoch 6/6\n",
      "250/250 [==============================] - 17s 67ms/step - loss: 0.0754 - acc: 0.9819 - val_loss: 0.4226 - val_acc: 0.8479\n",
      "Training time for modelcnn : 101.79 secondes\n"
     ]
    }
   ],
   "source": [
    "from keras.models import Sequential\n",
    "from keras.layers import Embedding, Conv1D, MaxPooling1D, Flatten, Dense\n",
    "from keras.losses import binary_crossentropy\n",
    "from keras.optimizers import Adam\n",
    "\n",
    "# Création du modèle séquentiel\n",
    "modelcnn = Sequential()\n",
    "\n",
    "# Ajout des couches au modèle\n",
    "modelcnn.add(Embedding(vocab_size, 100, weights=[embedding_matrix], input_length=maxlen))\n",
    "\n",
    "# Couche Convolutional 1D\n",
    "modelcnn.add(Conv1D(filters=128, kernel_size=5, activation='relu'))\n",
    "\n",
    "# Couche de pooling MaxPooling1D\n",
    "modelcnn.add(MaxPooling1D())\n",
    "\n",
    "# Couche Dense\n",
    "modelcnn.add(Flatten())\n",
    "modelcnn.add(Dense(units=1, activation='sigmoid'))\n",
    "\n",
    "# Compilation du modèle\n",
    "modelcnn.compile(loss=binary_crossentropy, optimizer='adam', metrics=['acc'])\n",
    "start_time = time.time()\n",
    "\n",
    "# Entraînement du modèle\n",
    "history = modelcnn.fit(X_train, y_train, epochs=6, batch_size=128, verbose=1, validation_split=0.2)\n",
    "\n",
    "end_time = time.time()\n",
    "train_time = end_time - start_time\n",
    "print(\"Training time for modelcnn : {:.2f} secondes\".format(train_time))"
   ]
  },
  {
   "cell_type": "code",
   "execution_count": 22,
   "metadata": {
    "colab": {
     "base_uri": "https://localhost:8080/"
    },
    "id": "gvmGIhAx-LgT",
    "outputId": "2d99b049-0b2a-4c4f-e20b-1466515619e9",
    "tags": []
   },
   "outputs": [
    {
     "name": "stdout",
     "output_type": "stream",
     "text": [
      "313/313 [==============================] - 1s 2ms/step - loss: 0.4063 - acc: 0.8503\n",
      "Test Score: 0.406261682510376\n",
      "Test Accuracy: 0.8503000140190125\n"
     ]
    }
   ],
   "source": [
    "score = modelcnn.evaluate(X_test, y_test, verbose=1)\n",
    "print(\"Test Score:\", score[0])\n",
    "print(\"Test Accuracy:\", score[1])"
   ]
  },
  {
   "cell_type": "code",
   "execution_count": 23,
   "metadata": {
    "colab": {
     "base_uri": "https://localhost:8080/",
     "height": 927
    },
    "id": "clp0hy-m-X73",
    "outputId": "8a0eec91-2121-48ad-b268-d0ef81bbcb54",
    "tags": []
   },
   "outputs": [
    {
     "data": {
      "image/png": "[encoded data removed]",
      "text/plain": [
       "<Figure size 640x480 with 1 Axes>"
      ]
     },
     "metadata": {},
     "output_type": "display_data"
    },
    {
     "data": {
      "image/png": "[encoded data removed]",
      "text/plain": [
       "<Figure size 640x480 with 1 Axes>"
      ]
     },
     "metadata": {},
     "output_type": "display_data"
    }
   ],
   "source": [
    "plt.plot(history.history['acc'])\n",
    "plt.plot(history.history['val_acc'])\n",
    "plt.title('model accuracy')\n",
    "plt.ylabel('accuracy')\n",
    "plt.xlabel('epoch')\n",
    "plt.legend(['train','test'], loc='upper left')\n",
    "plt.show()\n",
    "plt.plot(history.history['loss'])\n",
    "plt.plot(history.history['val_loss'])\n",
    "plt.title('model loss')\n",
    "plt.ylabel('loss')\n",
    "plt.xlabel('epoch')\n",
    "plt.legend(['train','test'], loc='upper left')\n",
    "plt.show()"
   ]
  },
  {
   "cell_type": "markdown",
   "metadata": {
    "id": "DqhARAX5-dfG",
    "tags": []
   },
   "source": [
    "## **LSTM**"
   ]
  },
  {
   "cell_type": "code",
   "execution_count": 24,
   "metadata": {
    "colab": {
     "base_uri": "https://localhost:8080/"
    },
    "id": "-RBsnc8V-kr1",
    "outputId": "4b9a1850-5924-46f6-bf08-00c1b0b053e2",
    "tags": []
   },
   "outputs": [
    {
     "name": "stdout",
     "output_type": "stream",
     "text": [
      "Epoch 1/6\n",
      "250/250 [==============================] - 37s 138ms/step - loss: 0.5026 - acc: 0.7481 - val_loss: 0.3650 - val_acc: 0.8407\n",
      "Epoch 2/6\n",
      "250/250 [==============================] - 34s 136ms/step - loss: 0.3256 - acc: 0.8616 - val_loss: 0.3226 - val_acc: 0.8620\n",
      "Epoch 3/6\n",
      "250/250 [==============================] - 35s 139ms/step - loss: 0.2802 - acc: 0.8863 - val_loss: 0.3147 - val_acc: 0.8640\n",
      "Epoch 4/6\n",
      "250/250 [==============================] - 35s 138ms/step - loss: 0.2477 - acc: 0.9021 - val_loss: 0.3136 - val_acc: 0.8673\n",
      "Epoch 5/6\n",
      "250/250 [==============================] - 34s 138ms/step - loss: 0.2225 - acc: 0.9140 - val_loss: 0.3300 - val_acc: 0.8658\n",
      "Epoch 6/6\n",
      "250/250 [==============================] - 34s 136ms/step - loss: 0.1969 - acc: 0.9270 - val_loss: 0.3450 - val_acc: 0.8627\n",
      "Training time for modelrnn : 208.24 secondes\n"
     ]
    }
   ],
   "source": [
    "from keras.models import Sequential\n",
    "from keras.layers import Embedding, LSTM, Dense\n",
    "from keras.losses import binary_crossentropy\n",
    "from keras.optimizers import Adam\n",
    "\n",
    "# Création du modèle séquentiel\n",
    "modelrnn = Sequential()\n",
    "\n",
    "# Ajout des couches au modèle\n",
    "modelrnn.add(Embedding(vocab_size, 100, weights=[embedding_matrix], input_length=maxlen))\n",
    "\n",
    "# Couche LSTM\n",
    "modelrnn.add(LSTM(units=128))\n",
    "\n",
    "# Couche Dense\n",
    "modelrnn.add(Dense(units=1, activation='sigmoid'))\n",
    "\n",
    "# Compilation du modèle\n",
    "modelrnn.compile(loss=binary_crossentropy, optimizer='adam', metrics=['acc'])\n",
    "\n",
    "start_time = time.time()\n",
    "\n",
    "# Entraînement du modèle\n",
    "history = modelrnn.fit(X_train,\n",
    "                       y_train,\n",
    "                       epochs=6,\n",
    "                       batch_size=128,\n",
    "                       verbose=1,\n",
    "                       validation_split=0.2)\n",
    "\n",
    "end_time = time.time()\n",
    "train_time = end_time - start_time\n",
    "print(\"Training time for modelrnn : {:.2f} secondes\".format(train_time))"
   ]
  },
  {
   "cell_type": "code",
   "execution_count": 25,
   "metadata": {
    "colab": {
     "base_uri": "https://localhost:8080/"
    },
    "id": "xfbqlQjD-khK",
    "outputId": "01357c19-ae93-4085-830c-49e4018013d0",
    "tags": []
   },
   "outputs": [
    {
     "name": "stdout",
     "output_type": "stream",
     "text": [
      "313/313 [==============================] - 4s 14ms/step - loss: 0.3243 - acc: 0.8670\n",
      "Test Score: 0.3243227005004883\n",
      "Test Accuracy: 0.8669999837875366\n"
     ]
    }
   ],
   "source": [
    "score = modelrnn.evaluate(X_test, y_test, verbose=1)\n",
    "print(\"Test Score:\", score[0])\n",
    "print(\"Test Accuracy:\", score[1])"
   ]
  },
  {
   "cell_type": "code",
   "execution_count": 26,
   "metadata": {
    "colab": {
     "base_uri": "https://localhost:8080/",
     "height": 927
    },
    "id": "frvhtOWS-kd2",
    "outputId": "49cc049c-3521-4070-85ac-5a02e86703ed",
    "tags": []
   },
   "outputs": [
    {
     "data": {
      "image/png": "[encoded data removed]",
      "text/plain": [
       "<Figure size 640x480 with 1 Axes>"
      ]
     },
     "metadata": {},
     "output_type": "display_data"
    },
    {
     "data": {
      "image/png": "[encoded data removed]",
      "text/plain": [
       "<Figure size 640x480 with 1 Axes>"
      ]
     },
     "metadata": {},
     "output_type": "display_data"
    }
   ],
   "source": [
    "plt.plot(history.history['acc'])\n",
    "plt.plot(history.history['val_acc'])\n",
    "plt.title('model accuracy')\n",
    "plt.ylabel('accuracy')\n",
    "plt.xlabel('epoch')\n",
    "plt.legend(['train','test'], loc='upper left')\n",
    "plt.show()\n",
    "plt.plot(history.history['loss'])\n",
    "plt.plot(history.history['val_loss'])\n",
    "plt.title('model loss')\n",
    "plt.ylabel('loss')\n",
    "plt.xlabel('epoch')\n",
    "plt.legend(['train','test'], loc='upper left')\n",
    "plt.show()"
   ]
  },
  {
   "cell_type": "markdown",
   "metadata": {
    "id": "zP2HtW-bF16L",
    "tags": []
   },
   "source": [
    "## **GRU**"
   ]
  },
  {
   "cell_type": "code",
   "execution_count": 27,
   "metadata": {
    "colab": {
     "base_uri": "https://localhost:8080/"
    },
    "id": "0MmC_VNpF1P1",
    "outputId": "b0c92268-4158-489f-b9b1-63df7d1b66ce",
    "tags": []
   },
   "outputs": [
    {
     "name": "stdout",
     "output_type": "stream",
     "text": [
      "Epoch 1/6\n",
      "250/250 [==============================] - 33s 127ms/step - loss: 0.4874 - acc: 0.7464 - val_loss: 0.3338 - val_acc: 0.8559\n",
      "Epoch 2/6\n",
      "250/250 [==============================] - 33s 131ms/step - loss: 0.3043 - acc: 0.8716 - val_loss: 0.3156 - val_acc: 0.8627\n",
      "Epoch 3/6\n",
      "250/250 [==============================] - 32s 127ms/step - loss: 0.2605 - acc: 0.8934 - val_loss: 0.3076 - val_acc: 0.8680\n",
      "Epoch 4/6\n",
      "250/250 [==============================] - 31s 125ms/step - loss: 0.2241 - acc: 0.9118 - val_loss: 0.3183 - val_acc: 0.8662\n",
      "Epoch 5/6\n",
      "250/250 [==============================] - 31s 125ms/step - loss: 0.1972 - acc: 0.9237 - val_loss: 0.3549 - val_acc: 0.8654\n",
      "Epoch 6/6\n",
      "250/250 [==============================] - 32s 127ms/step - loss: 0.1670 - acc: 0.9387 - val_loss: 0.3674 - val_acc: 0.8648\n",
      "Training time for model_gru : 192.34 secondes\n"
     ]
    }
   ],
   "source": [
    "from keras.models import Sequential\n",
    "from keras.layers import Embedding, GRU, Dense\n",
    "from keras.losses import binary_crossentropy\n",
    "from keras.optimizers import Adam\n",
    "\n",
    "# Création du modèle séquentiel\n",
    "modelgru = Sequential()\n",
    "\n",
    "# Ajout des couches au modèle\n",
    "modelgru.add(Embedding(vocab_size, 100, weights=[embedding_matrix], input_length=maxlen))\n",
    "\n",
    "# Couche GRU\n",
    "modelgru.add(GRU(units=128))\n",
    "\n",
    "# Couche Dense\n",
    "modelgru.add(Dense(units=1, activation='sigmoid'))\n",
    "\n",
    "# Compilation du modèle\n",
    "modelgru.compile(loss=binary_crossentropy, optimizer='adam', metrics=['acc'])\n",
    "\n",
    "start_time = time.time()\n",
    "\n",
    "# Entraînement du modèle\n",
    "history = modelgru.fit(X_train,\n",
    "                            y_train,\n",
    "                            epochs=6,\n",
    "                            batch_size=128,\n",
    "                            verbose=1,\n",
    "                            validation_split=0.2)\n",
    "\n",
    "end_time = time.time()\n",
    "train_time_gru = end_time - start_time\n",
    "print(\"Training time for model_gru : {:.2f} secondes\".format(train_time_gru))"
   ]
  },
  {
   "cell_type": "code",
   "execution_count": 28,
   "metadata": {
    "colab": {
     "base_uri": "https://localhost:8080/"
    },
    "id": "5Uh0X4P0GkQc",
    "outputId": "ebcb968f-53f8-4a91-b18f-f9bd0a39fa05",
    "tags": []
   },
   "outputs": [
    {
     "name": "stdout",
     "output_type": "stream",
     "text": [
      "313/313 [==============================] - 3s 10ms/step - loss: 0.3469 - acc: 0.8681\n",
      "Test Score: 0.34685108065605164\n",
      "Test Accuracy: 0.8680999875068665\n"
     ]
    }
   ],
   "source": [
    "score = modelgru.evaluate(X_test, y_test, verbose=1)\n",
    "print(\"Test Score:\", score[0])\n",
    "print(\"Test Accuracy:\", score[1])"
   ]
  },
  {
   "cell_type": "code",
   "execution_count": 29,
   "metadata": {
    "colab": {
     "base_uri": "https://localhost:8080/",
     "height": 927
    },
    "id": "tH0wi_qNGjDK",
    "outputId": "1ba06166-be6e-4996-f350-f09a8563c830",
    "tags": []
   },
   "outputs": [
    {
     "data": {
      "image/png": "[encoded data removed]",
      "text/plain": [
       "<Figure size 640x480 with 1 Axes>"
      ]
     },
     "metadata": {},
     "output_type": "display_data"
    },
    {
     "data": {
      "image/png": "[encoded data removed]",
      "text/plain": [
       "<Figure size 640x480 with 1 Axes>"
      ]
     },
     "metadata": {},
     "output_type": "display_data"
    }
   ],
   "source": [
    "plt.plot(history.history['acc'])\n",
    "plt.plot(history.history['val_acc'])\n",
    "plt.title('model accuracy')\n",
    "plt.ylabel('accuracy')\n",
    "plt.xlabel('epoch')\n",
    "plt.legend(['train','test'], loc='upper left')\n",
    "plt.show()\n",
    "plt.plot(history.history['loss'])\n",
    "plt.plot(history.history['val_loss'])\n",
    "plt.title('model loss')\n",
    "plt.ylabel('loss')\n",
    "plt.xlabel('epoch')\n",
    "plt.legend(['train','test'], loc='upper left')\n",
    "plt.show()"
   ]
  },
  {
   "cell_type": "markdown",
   "metadata": {
    "tags": []
   },
   "source": [
    "## *Comparaison des models* : "
   ]
  },
  {
   "cell_type": "code",
   "execution_count": 32,
   "metadata": {
    "colab": {
     "base_uri": "https://localhost:8080/"
    },
    "id": "RsQvC8aM_7cb",
    "outputId": "0eb8df70-47ee-4708-8b66-ab8dfe4767d1",
    "tags": []
   },
   "outputs": [
    {
     "name": "stdout",
     "output_type": "stream",
     "text": [
      "Simple nn - Loss: 0.5321, Accuracy: 74.59%\n",
      "CNN - Loss: 0.4063, Accuracy: 85.03%\n",
      "LSTM - Loss: 0.3243, Accuracy: 86.70%\n",
      "GRU - Loss: 0.3469, Accuracy: 86.81%\n"
     ]
    }
   ],
   "source": [
    "def compare_classifiers(cnn_model, lstm_model, dense_model, gru_model, X_test, y_test):\n",
    "    \n",
    "    # Simple nn\n",
    "    dense_scores = dense_model.evaluate(X_test, y_test, verbose=0)\n",
    "    print(\"Simple nn - Loss: {:.4f}, Accuracy: {:.2f}%\".format(dense_scores[0], dense_scores[1] * 100))\n",
    "\n",
    "    # CNN\n",
    "    cnn_scores = cnn_model.evaluate(X_test, y_test, verbose=0)\n",
    "    print(\"CNN - Loss: {:.4f}, Accuracy: {:.2f}%\".format(cnn_scores[0], cnn_scores[1] * 100))\n",
    "\n",
    "    # LSTM\n",
    "    lstm_scores = lstm_model.evaluate(X_test, y_test, verbose=0)\n",
    "    print(\"LSTM - Loss: {:.4f}, Accuracy: {:.2f}%\".format(lstm_scores[0], lstm_scores[1] * 100))\n",
    "\n",
    "    # GRU\n",
    "    gru_scores = gru_model.evaluate(X_test, y_test, verbose=0)\n",
    "    print(\"GRU - Loss: {:.4f}, Accuracy: {:.2f}%\".format(gru_scores[0], gru_scores[1] * 100))\n",
    "\n",
    "compare_classifiers(modelcnn, modelrnn, modelsnn, modelgru, X_test, y_test)"
   ]
  },
  {
   "cell_type": "markdown",
   "metadata": {
    "tags": []
   },
   "source": [
    "## **Test**"
   ]
  },
  {
   "cell_type": "code",
   "execution_count": 33,
   "metadata": {
    "id": "Yv_6oWbX8WgI",
    "tags": []
   },
   "outputs": [],
   "source": [
    "def predict_sentiment(model, review, tokenizer, maxlen=100):\n",
    "    review = preprocess_text(review)\n",
    "\n",
    "    sequence = tokenizer.texts_to_sequences([review])\n",
    "\n",
    "    padded_sequence = pad_sequences(sequence, maxlen=maxlen, padding='post')\n",
    "\n",
    "    prediction = model.predict(padded_sequence)\n",
    "\n",
    "    sentiment = \"positif\" if prediction >= 0.5 else \"négatif\"\n",
    "\n",
    "    return sentiment"
   ]
  },
  {
   "cell_type": "code",
   "execution_count": 42,
   "metadata": {
    "colab": {
     "base_uri": "https://localhost:8080/"
    },
    "id": "FoH5o4E9IlKJ",
    "outputId": "eee7723a-c9c8-4e63-ea19-9590f67583a4",
    "tags": []
   },
   "outputs": [
    {
     "name": "stdout",
     "output_type": "stream",
     "text": [
      "1/1 [==============================] - 0s 26ms/step\n",
      "Le sentiment prédit pour la critique est : positif\n"
     ]
    }
   ],
   "source": [
    "review_text = \"I love you\"\n",
    "\n",
    "predicted_sentiment = predict_sentiment(modelsnn, review_text, tokenizer)\n",
    "print(\"Le sentiment prédit pour la critique est :\", predicted_sentiment)"
   ]
  },
  {
   "cell_type": "markdown",
   "metadata": {
    "tags": []
   },
   "source": [
    "# **Partie Compte rendu** "
   ]
  },
  {
   "cell_type": "markdown",
   "metadata": {
    "id": "xd0_bBhcud2H",
    "tags": []
   },
   "source": [
    "## **Embedding Layers**"
   ]
  },
  {
   "cell_type": "code",
   "execution_count": 23,
   "metadata": {
    "colab": {
     "base_uri": "https://localhost:8080/"
    },
    "id": "5D8rDcQerB2b",
    "outputId": "58a758cf-a7d3-482b-f4ca-045aeafb30a5",
    "tags": []
   },
   "outputs": [],
   "source": [
    "from keras.preprocessing.text import Tokenizer\n",
    "from keras.preprocessing.sequence import pad_sequences\n",
    "\n",
    "def create_and_fit_tokenizer(texts, max_words=5000):\n",
    "    tokenizer = Tokenizer(num_words=max_words)\n",
    "    tokenizer.fit_on_texts(texts)\n",
    "    return tokenizer\n",
    "\n",
    "def preprocess_sequences(tokenizer, sequences, maxlen):\n",
    "    sequences = tokenizer.texts_to_sequences(sequences)\n",
    "    padded_sequences = pad_sequences(sequences, padding='post', maxlen=maxlen)\n",
    "    return padded_sequences"
   ]
  },
  {
   "cell_type": "code",
   "execution_count": 29,
   "metadata": {
    "id": "sAP1HmaJrLfB",
    "tags": []
   },
   "outputs": [],
   "source": [
    "from numpy import zeros, asarray\n",
    "\n",
    "def create_embedding_matrix(tokenizer, embeddings_file, embedding_dim=100):\n",
    "    vocab_size = len(tokenizer.word_index) + 1\n",
    "    embedding_matrix = zeros((vocab_size, embedding_dim))\n",
    "    embeddings_dictionary = dict()\n",
    "\n",
    "    with open(embeddings_file, 'r', encoding='utf8') as file:\n",
    "        next(file)\n",
    "        for line in file:\n",
    "            records = line.split()\n",
    "            word = records[0]\n",
    "            try:\n",
    "                vector_dimensions = asarray(records[1:], dtype='float32')\n",
    "                embeddings_dictionary[word] = vector_dimensions\n",
    "            except ValueError:\n",
    "                continue\n",
    "\n",
    "\n",
    "    for word, index in tokenizer.word_index.items():\n",
    "        embedding_vector = embeddings_dictionary.get(word)\n",
    "        if embedding_vector is not None:\n",
    "            embedding_matrix[index] = embedding_vector\n",
    "\n",
    "    return embedding_matrix"
   ]
  },
  {
   "cell_type": "markdown",
   "metadata": {
    "id": "2oKPYHgCuivY",
    "tags": []
   },
   "source": [
    "## **Modeling**"
   ]
  },
  {
   "cell_type": "code",
   "execution_count": 37,
   "metadata": {
    "id": "8CF7_5mH28R3",
    "tags": []
   },
   "outputs": [],
   "source": [
    "import time\n",
    "from keras.models import Sequential\n",
    "from keras.layers import SimpleRNN, Embedding, LSTM, GRU, Conv1D, MaxPooling1D, Flatten, Dense, TimeDistributed\n",
    "from keras.losses import binary_crossentropy\n",
    "from keras.optimizers import Adam\n",
    "\n",
    "def train_and_evaluate_model(model_type, embedding_matrix, X_train, y_train, X_test, y_test, vocab_size, maxlen, save_path, results_file, embedding_name):\n",
    "    model = Sequential()\n",
    "    model.add(Embedding(vocab_size, 100, weights=[embedding_matrix], input_length=maxlen))\n",
    "\n",
    "    if model_type == 'lstm':\n",
    "        model.add(LSTM(units=128))\n",
    "    elif model_type == 'gru':\n",
    "        model.add(GRU(units=128))\n",
    "    elif model_type == 'crnn':\n",
    "        model.add(Conv1D(filters=128, kernel_size=5, activation='relu', padding='same'))\n",
    "        model.add(MaxPooling1D(pool_size=2))\n",
    "        model.add(SimpleRNN(units=128, return_sequences=True))\n",
    "        model.add(TimeDistributed(Dense(64)))\n",
    "        model.add(Flatten())\n",
    "\n",
    "    model.add(Dense(units=1, activation='sigmoid'))\n",
    "    model.compile(loss=binary_crossentropy, optimizer='adam', metrics=['acc'])\n",
    "\n",
    "    start_time = time.time()\n",
    "    history = model.fit(X_train, y_train, epochs=10, batch_size=128, verbose=1, validation_split=0.2)\n",
    "    end_time = time.time()\n",
    "    train_time = end_time - start_time\n",
    "    print(f\"Training time for {model_type} : {train_time:.2f} seconds\")\n",
    "\n",
    "    score = model.evaluate(X_test, y_test, verbose=1)\n",
    "    print(f\"Test Loss for {model_type}:\", score[0])\n",
    "    print(f\"Test Accuracy for {model_type}:\", score[1])\n",
    "\n",
    "    # Save the model with the embedding name in the filename\n",
    "    model_save_path = f\"{save_path}/{model_type}_{embedding_name}_model.h5\"\n",
    "    model.save(model_save_path)\n",
    "    print(f\"Model saved to {model_save_path}\")\n",
    "\n",
    "    with open(results_file, 'a') as file:\n",
    "        file.write(f\"{model_type} with {embedding_name}: Loss = {score[0]}, Accuracy = {score[1]}\\n\")\n",
    "\n",
    "    return model, history, score"
   ]
  },
  {
   "cell_type": "markdown",
   "metadata": {
    "id": "sN7hPHxjq8KF",
    "jp-MarkdownHeadingCollapsed": true,
    "tags": []
   },
   "source": [
    "## **Glove**"
   ]
  },
  {
   "cell_type": "code",
   "execution_count": 99,
   "metadata": {
    "id": "Gk-kk295q7fJ",
    "tags": []
   },
   "outputs": [],
   "source": [
    "X_train, X_test, y_train, y_test = train_test_split(X, y,test_size=0.20, random_state=42)"
   ]
  },
  {
   "cell_type": "code",
   "execution_count": 100,
   "metadata": {
    "tags": []
   },
   "outputs": [
    {
     "name": "stdout",
     "output_type": "stream",
     "text": [
      "92547\n"
     ]
    }
   ],
   "source": [
    "vocab_size = len(tokenizer.word_index) + 1\n",
    "print(vocab_size)\n",
    "maxlen = 100\n",
    "tokenizer = create_and_fit_tokenizer(X_train)\n",
    "X_train = preprocess_sequences(tokenizer, X_train, maxlen)\n",
    "X_test = preprocess_sequences(tokenizer, X_test, maxlen)"
   ]
  },
  {
   "cell_type": "code",
   "execution_count": 101,
   "metadata": {
    "id": "elhwWlUYrOrl",
    "tags": []
   },
   "outputs": [],
   "source": [
    "embedding_matrix_glove = create_embedding_matrix(tokenizer, \"glove.6B.100d.txt\")"
   ]
  },
  {
   "cell_type": "code",
   "execution_count": 103,
   "metadata": {
    "tags": []
   },
   "outputs": [],
   "source": [
    "save_path = './models'\n",
    "import os\n",
    "\n",
    "if not os.path.exists(save_path):\n",
    "    os.makedirs(save_path)"
   ]
  },
  {
   "cell_type": "code",
   "execution_count": 109,
   "metadata": {
    "colab": {
     "base_uri": "https://localhost:8080/"
    },
    "id": "Ud9ajTltuRT_",
    "outputId": "ea7bc298-33ca-422f-e37a-ad932b689168",
    "tags": []
   },
   "outputs": [
    {
     "name": "stdout",
     "output_type": "stream",
     "text": [
      "------------------------------lstm-------------------------\n",
      "Epoch 1/10\n",
      "250/250 [==============================] - 35s 133ms/step - loss: 0.4862 - acc: 0.7581 - val_loss: 0.3694 - val_acc: 0.8350\n",
      "Epoch 2/10\n",
      "250/250 [==============================] - 33s 132ms/step - loss: 0.3349 - acc: 0.8568 - val_loss: 0.3419 - val_acc: 0.8511\n",
      "Epoch 3/10\n",
      "250/250 [==============================] - 33s 131ms/step - loss: 0.2874 - acc: 0.8822 - val_loss: 0.3469 - val_acc: 0.8636\n",
      "Epoch 4/10\n",
      "250/250 [==============================] - 33s 130ms/step - loss: 0.2533 - acc: 0.8976 - val_loss: 0.3199 - val_acc: 0.8629\n",
      "Epoch 5/10\n",
      "250/250 [==============================] - 33s 130ms/step - loss: 0.2352 - acc: 0.9076 - val_loss: 0.3255 - val_acc: 0.8659\n",
      "Epoch 6/10\n",
      "250/250 [==============================] - 33s 130ms/step - loss: 0.2095 - acc: 0.9180 - val_loss: 0.3748 - val_acc: 0.8645\n",
      "Epoch 7/10\n",
      "250/250 [==============================] - 33s 130ms/step - loss: 0.1870 - acc: 0.9285 - val_loss: 0.3881 - val_acc: 0.8593\n",
      "Epoch 8/10\n",
      "250/250 [==============================] - 33s 130ms/step - loss: 0.1604 - acc: 0.9401 - val_loss: 0.3888 - val_acc: 0.8594\n",
      "Epoch 9/10\n",
      "250/250 [==============================] - 33s 130ms/step - loss: 0.1380 - acc: 0.9498 - val_loss: 0.4225 - val_acc: 0.8579\n",
      "Epoch 10/10\n",
      "250/250 [==============================] - 32s 130ms/step - loss: 0.1071 - acc: 0.9644 - val_loss: 0.4562 - val_acc: 0.8493\n",
      "Training time for lstm : 328.57 seconds\n",
      "313/313 [==============================] - 4s 14ms/step - loss: 0.4313 - acc: 0.8539\n",
      "Test Loss for lstm: 0.43128886818885803\n",
      "Test Accuracy for lstm: 0.8539000153541565\n",
      "Model saved to ./models/lstm_Glove_model.h5\n",
      "------------------------------gru-------------------------\n",
      "Epoch 1/10\n",
      "250/250 [==============================] - 32s 121ms/step - loss: 0.4842 - acc: 0.7490 - val_loss: 0.3431 - val_acc: 0.8559\n",
      "Epoch 2/10\n",
      "250/250 [==============================] - 30s 119ms/step - loss: 0.3023 - acc: 0.8708 - val_loss: 0.3434 - val_acc: 0.8536\n",
      "Epoch 3/10\n",
      "250/250 [==============================] - 30s 119ms/step - loss: 0.2602 - acc: 0.8932 - val_loss: 0.3070 - val_acc: 0.8691\n",
      "Epoch 4/10\n",
      "250/250 [==============================] - 30s 119ms/step - loss: 0.2295 - acc: 0.9097 - val_loss: 0.3141 - val_acc: 0.8670\n",
      "Epoch 5/10\n",
      "250/250 [==============================] - 30s 119ms/step - loss: 0.2008 - acc: 0.9227 - val_loss: 0.3450 - val_acc: 0.8686\n",
      "Epoch 6/10\n",
      "250/250 [==============================] - 30s 118ms/step - loss: 0.1735 - acc: 0.9358 - val_loss: 0.3513 - val_acc: 0.8664\n",
      "Epoch 7/10\n",
      "250/250 [==============================] - 30s 119ms/step - loss: 0.1378 - acc: 0.9516 - val_loss: 0.3988 - val_acc: 0.8629\n",
      "Epoch 8/10\n",
      "250/250 [==============================] - 30s 119ms/step - loss: 0.1143 - acc: 0.9611 - val_loss: 0.4622 - val_acc: 0.8605\n",
      "Epoch 9/10\n",
      "250/250 [==============================] - 30s 119ms/step - loss: 0.0878 - acc: 0.9725 - val_loss: 0.4968 - val_acc: 0.8508\n",
      "Epoch 10/10\n",
      "250/250 [==============================] - 30s 119ms/step - loss: 0.0610 - acc: 0.9814 - val_loss: 0.5750 - val_acc: 0.8510\n",
      "Training time for gru : 299.35 seconds\n",
      "313/313 [==============================] - 3s 10ms/step - loss: 0.5536 - acc: 0.8517\n",
      "Test Loss for gru: 0.5536258220672607\n",
      "Test Accuracy for gru: 0.8517000079154968\n",
      "Model saved to ./models/gru_Glove_model.h5\n",
      "------------------------------crnn-------------------------\n",
      "Epoch 1/10\n",
      "250/250 [==============================] - 22s 83ms/step - loss: 0.5478 - acc: 0.7064 - val_loss: 0.3795 - val_acc: 0.8278\n",
      "Epoch 2/10\n",
      "250/250 [==============================] - 21s 82ms/step - loss: 0.3432 - acc: 0.8497 - val_loss: 0.3893 - val_acc: 0.8286\n",
      "Epoch 3/10\n",
      "250/250 [==============================] - 21s 82ms/step - loss: 0.2500 - acc: 0.8964 - val_loss: 0.4092 - val_acc: 0.8289\n",
      "Epoch 4/10\n",
      "250/250 [==============================] - 21s 82ms/step - loss: 0.1751 - acc: 0.9312 - val_loss: 0.4081 - val_acc: 0.8482\n",
      "Epoch 5/10\n",
      "250/250 [==============================] - 21s 82ms/step - loss: 0.0893 - acc: 0.9682 - val_loss: 0.5426 - val_acc: 0.8364\n",
      "Epoch 6/10\n",
      "250/250 [==============================] - 20s 82ms/step - loss: 0.0468 - acc: 0.9844 - val_loss: 0.6870 - val_acc: 0.8338\n",
      "Epoch 7/10\n",
      "250/250 [==============================] - 20s 82ms/step - loss: 0.0258 - acc: 0.9916 - val_loss: 0.7594 - val_acc: 0.8395\n",
      "Epoch 8/10\n",
      "250/250 [==============================] - 20s 82ms/step - loss: 0.0307 - acc: 0.9890 - val_loss: 0.8063 - val_acc: 0.8265\n",
      "Epoch 9/10\n",
      "250/250 [==============================] - 21s 85ms/step - loss: 0.0298 - acc: 0.9887 - val_loss: 0.8630 - val_acc: 0.8213\n",
      "Epoch 10/10\n",
      "250/250 [==============================] - 21s 85ms/step - loss: 0.0358 - acc: 0.9868 - val_loss: 0.9059 - val_acc: 0.8238\n",
      "Training time for crnn : 208.58 seconds\n",
      "313/313 [==============================] - 1s 4ms/step - loss: 0.8899 - acc: 0.8253\n",
      "Test Loss for crnn: 0.8898543119430542\n",
      "Test Accuracy for crnn: 0.8252999782562256\n",
      "Model saved to ./models/crnn_Glove_model.h5\n"
     ]
    }
   ],
   "source": [
    "models = ['lstm', 'gru', 'crnn']\n",
    "embedding_name = 'Glove'  # Specify the embedding method name here\n",
    "save_path = './models'\n",
    "results_file = './models/model_results.txt'\n",
    "for model_type in models:\n",
    "    print(f\"------------------------------{model_type}-------------------------\")\n",
    "    train_and_evaluate_model(model_type, embedding_matrix_glove, X_train, y_train, X_test, y_test, vocab_size, maxlen, save_path, results_file, embedding_name)"
   ]
  },
  {
   "cell_type": "markdown",
   "metadata": {
    "id": "pOJKh-AlzZGI",
    "tags": []
   },
   "source": [
    "## **Word2Vec :**"
   ]
  },
  {
   "cell_type": "code",
   "execution_count": 110,
   "metadata": {
    "colab": {
     "base_uri": "https://localhost:8080/"
    },
    "id": "-I6gnF0f4Odp",
    "outputId": "679cc74f-834c-4d90-f5b2-26b0846c31cb",
    "tags": []
   },
   "outputs": [],
   "source": [
    "X_train, X_test, y_train, y_test = train_test_split(X, y,test_size=0.20, random_state=42)"
   ]
  },
  {
   "cell_type": "code",
   "execution_count": 111,
   "metadata": {
    "tags": []
   },
   "outputs": [
    {
     "name": "stdout",
     "output_type": "stream",
     "text": [
      "92547\n"
     ]
    }
   ],
   "source": [
    "vocab_size = len(tokenizer.word_index) + 1\n",
    "print(vocab_size)\n",
    "maxlen = 100\n",
    "tokenizer = create_and_fit_tokenizer(X_train)\n",
    "X_train = preprocess_sequences(tokenizer, X_train, maxlen)\n",
    "X_test = preprocess_sequences(tokenizer, X_test, maxlen)"
   ]
  },
  {
   "cell_type": "code",
   "execution_count": 112,
   "metadata": {
    "id": "T5TlILEQ9URf",
    "tags": []
   },
   "outputs": [],
   "source": [
    "embedding_matrix_word2vec = create_embedding_matrix(tokenizer, \"enwiki_20180420_100d.txt\")"
   ]
  },
  {
   "cell_type": "code",
   "execution_count": 113,
   "metadata": {
    "id": "uXHdcDZhrnbN",
    "tags": []
   },
   "outputs": [
    {
     "name": "stdout",
     "output_type": "stream",
     "text": [
      "------------------------------lstm-------------------------\n",
      "Epoch 1/10\n",
      "250/250 [==============================] - 38s 144ms/step - loss: 0.5190 - acc: 0.7418 - val_loss: 0.4143 - val_acc: 0.8075\n",
      "Epoch 2/10\n",
      "250/250 [==============================] - 36s 142ms/step - loss: 0.3448 - acc: 0.8519 - val_loss: 0.3280 - val_acc: 0.8562\n",
      "Epoch 3/10\n",
      "250/250 [==============================] - 36s 143ms/step - loss: 0.2887 - acc: 0.8819 - val_loss: 0.3202 - val_acc: 0.8656\n",
      "Epoch 4/10\n",
      "250/250 [==============================] - 36s 143ms/step - loss: 0.2591 - acc: 0.8945 - val_loss: 0.3208 - val_acc: 0.8655\n",
      "Epoch 5/10\n",
      "250/250 [==============================] - 36s 142ms/step - loss: 0.2342 - acc: 0.9056 - val_loss: 0.3243 - val_acc: 0.8641\n",
      "Epoch 6/10\n",
      "250/250 [==============================] - 36s 142ms/step - loss: 0.2075 - acc: 0.9194 - val_loss: 0.3392 - val_acc: 0.8660\n",
      "Epoch 7/10\n",
      "250/250 [==============================] - 36s 143ms/step - loss: 0.1789 - acc: 0.9326 - val_loss: 0.3882 - val_acc: 0.8618\n",
      "Epoch 8/10\n",
      "250/250 [==============================] - 36s 143ms/step - loss: 0.1566 - acc: 0.9429 - val_loss: 0.4096 - val_acc: 0.8521\n",
      "Epoch 9/10\n",
      "250/250 [==============================] - 36s 143ms/step - loss: 0.1265 - acc: 0.9552 - val_loss: 0.4418 - val_acc: 0.8577\n",
      "Epoch 10/10\n",
      "250/250 [==============================] - 36s 143ms/step - loss: 0.1055 - acc: 0.9646 - val_loss: 0.4894 - val_acc: 0.8541\n",
      "Training time for lstm : 359.16 seconds\n",
      "313/313 [==============================] - 5s 16ms/step - loss: 0.4641 - acc: 0.8593\n",
      "Test Loss for lstm: 0.4641116261482239\n",
      "Test Accuracy for lstm: 0.8593000173568726\n",
      "Model saved to ./models/lstm_Word2Vec_model.h5\n",
      "------------------------------gru-------------------------\n",
      "Epoch 1/10\n",
      "250/250 [==============================] - 35s 131ms/step - loss: 0.4765 - acc: 0.7520 - val_loss: 0.3398 - val_acc: 0.8540\n",
      "Epoch 2/10\n",
      "250/250 [==============================] - 32s 129ms/step - loss: 0.3065 - acc: 0.8697 - val_loss: 0.3025 - val_acc: 0.8715\n",
      "Epoch 3/10\n",
      "250/250 [==============================] - 32s 129ms/step - loss: 0.2581 - acc: 0.8946 - val_loss: 0.3086 - val_acc: 0.8727\n",
      "Epoch 4/10\n",
      "250/250 [==============================] - 32s 129ms/step - loss: 0.2278 - acc: 0.9102 - val_loss: 0.3093 - val_acc: 0.8714\n",
      "Epoch 5/10\n",
      "250/250 [==============================] - 32s 129ms/step - loss: 0.1978 - acc: 0.9243 - val_loss: 0.3302 - val_acc: 0.8677\n",
      "Epoch 6/10\n",
      "250/250 [==============================] - 32s 129ms/step - loss: 0.1690 - acc: 0.9376 - val_loss: 0.3746 - val_acc: 0.8601\n",
      "Epoch 7/10\n",
      "250/250 [==============================] - 32s 129ms/step - loss: 0.1351 - acc: 0.9535 - val_loss: 0.3899 - val_acc: 0.8618\n",
      "Epoch 8/10\n",
      "250/250 [==============================] - 32s 129ms/step - loss: 0.1021 - acc: 0.9662 - val_loss: 0.4354 - val_acc: 0.8611\n",
      "Epoch 9/10\n",
      "250/250 [==============================] - 32s 129ms/step - loss: 0.0759 - acc: 0.9769 - val_loss: 0.5217 - val_acc: 0.8535\n",
      "Epoch 10/10\n",
      "250/250 [==============================] - 32s 129ms/step - loss: 0.0547 - acc: 0.9847 - val_loss: 0.5611 - val_acc: 0.8496\n",
      "Training time for gru : 324.54 seconds\n",
      "313/313 [==============================] - 3s 10ms/step - loss: 0.5281 - acc: 0.8544\n",
      "Test Loss for gru: 0.5281169414520264\n",
      "Test Accuracy for gru: 0.8543999791145325\n",
      "Model saved to ./models/gru_Word2Vec_model.h5\n",
      "------------------------------crnn-------------------------\n",
      "Epoch 1/10\n",
      "250/250 [==============================] - 23s 86ms/step - loss: 0.5562 - acc: 0.7018 - val_loss: 0.4221 - val_acc: 0.8114\n",
      "Epoch 2/10\n",
      "250/250 [==============================] - 21s 85ms/step - loss: 0.3285 - acc: 0.8581 - val_loss: 0.3377 - val_acc: 0.8524\n",
      "Epoch 3/10\n",
      "250/250 [==============================] - 21s 85ms/step - loss: 0.2436 - acc: 0.9001 - val_loss: 0.3844 - val_acc: 0.8356\n",
      "Epoch 4/10\n",
      "250/250 [==============================] - 21s 84ms/step - loss: 0.1737 - acc: 0.9331 - val_loss: 0.3979 - val_acc: 0.8484\n",
      "Epoch 5/10\n",
      "250/250 [==============================] - 21s 85ms/step - loss: 0.0856 - acc: 0.9697 - val_loss: 0.5205 - val_acc: 0.8347\n",
      "Epoch 6/10\n",
      "250/250 [==============================] - 21s 85ms/step - loss: 0.0370 - acc: 0.9884 - val_loss: 0.6954 - val_acc: 0.8314\n",
      "Epoch 7/10\n",
      "250/250 [==============================] - 21s 85ms/step - loss: 0.0273 - acc: 0.9908 - val_loss: 0.8344 - val_acc: 0.8270\n",
      "Epoch 8/10\n",
      "250/250 [==============================] - 21s 85ms/step - loss: 0.0313 - acc: 0.9888 - val_loss: 0.8351 - val_acc: 0.8261\n",
      "Epoch 9/10\n",
      "250/250 [==============================] - 21s 85ms/step - loss: 0.0337 - acc: 0.9874 - val_loss: 0.9337 - val_acc: 0.8361\n",
      "Epoch 10/10\n",
      "250/250 [==============================] - 21s 85ms/step - loss: 0.0280 - acc: 0.9896 - val_loss: 0.9485 - val_acc: 0.8220\n",
      "Training time for crnn : 213.74 seconds\n",
      "313/313 [==============================] - 1s 4ms/step - loss: 0.8865 - acc: 0.8247\n",
      "Test Loss for crnn: 0.886498749256134\n",
      "Test Accuracy for crnn: 0.8246999979019165\n",
      "Model saved to ./models/crnn_Word2Vec_model.h5\n"
     ]
    }
   ],
   "source": [
    "models = ['lstm', 'gru', 'crnn']\n",
    "embedding_name = 'Word2Vec'  # Specify the embedding method name here\n",
    "save_path = './models'\n",
    "results_file = './models/model_results.txt'\n",
    "for model_type in models:\n",
    "    print(f\"------------------------------{model_type}-------------------------\")\n",
    "    train_and_evaluate_model(model_type, embedding_matrix_word2vec, X_train, y_train, X_test, y_test, vocab_size, maxlen, save_path, results_file, embedding_name)"
   ]
  },
  {
   "cell_type": "markdown",
   "metadata": {
    "id": "TMnsiJWNyo49",
    "tags": []
   },
   "source": [
    "## **Fasttext** :"
   ]
  },
  {
   "cell_type": "code",
   "execution_count": 39,
   "metadata": {
    "tags": []
   },
   "outputs": [
    {
     "name": "stdout",
     "output_type": "stream",
     "text": [
      "Requirement already satisfied: gensim in c:\\users\\haykel bargugui\\anaconda3\\lib\\site-packages (4.3.0)\n",
      "Requirement already satisfied: numpy>=1.18.5 in c:\\users\\haykel bargugui\\anaconda3\\lib\\site-packages (from gensim) (1.24.3)\n",
      "Requirement already satisfied: scipy>=1.7.0 in c:\\users\\haykel bargugui\\anaconda3\\lib\\site-packages (from gensim) (1.11.1)\n",
      "Requirement already satisfied: smart-open>=1.8.1 in c:\\users\\haykel bargugui\\anaconda3\\lib\\site-packages (from gensim) (5.2.1)\n",
      "Collecting FuzzyTM>=0.4.0 (from gensim)\n",
      "  Obtaining dependency information for FuzzyTM>=0.4.0 from https://files.pythonhosted.org/packages/2d/30/074bac7a25866a2807c1005c7852c0139ac22ba837871fc01f16df29b9dc/FuzzyTM-2.0.9-py3-none-any.whl.metadata\n",
      "  Downloading FuzzyTM-2.0.9-py3-none-any.whl.metadata (7.9 kB)\n",
      "Requirement already satisfied: pandas in c:\\users\\haykel bargugui\\anaconda3\\lib\\site-packages (from FuzzyTM>=0.4.0->gensim) (2.0.3)\n",
      "Collecting pyfume (from FuzzyTM>=0.4.0->gensim)\n",
      "  Obtaining dependency information for pyfume from https://files.pythonhosted.org/packages/f0/fe/b899a3d9a18c9a44a35155c79a4c152cb85990ea38ce6ab7ed73e5caa1b9/pyFUME-0.3.1-py3-none-any.whl.metadata\n",
      "  Downloading pyFUME-0.3.1-py3-none-any.whl.metadata (9.7 kB)\n",
      "Requirement already satisfied: python-dateutil>=2.8.2 in c:\\users\\haykel bargugui\\anaconda3\\lib\\site-packages (from pandas->FuzzyTM>=0.4.0->gensim) (2.8.2)\n",
      "Requirement already satisfied: pytz>=2020.1 in c:\\users\\haykel bargugui\\anaconda3\\lib\\site-packages (from pandas->FuzzyTM>=0.4.0->gensim) (2023.3.post1)\n",
      "Requirement already satisfied: tzdata>=2022.1 in c:\\users\\haykel bargugui\\anaconda3\\lib\\site-packages (from pandas->FuzzyTM>=0.4.0->gensim) (2023.3)\n",
      "Collecting simpful (from pyfume->FuzzyTM>=0.4.0->gensim)\n",
      "  Obtaining dependency information for simpful from https://files.pythonhosted.org/packages/9d/0e/aebc2fb0b0f481994179b2ee2b8e6bbf0894d971594688c018375e7076ea/simpful-2.12.0-py3-none-any.whl.metadata\n",
      "  Downloading simpful-2.12.0-py3-none-any.whl.metadata (4.8 kB)\n",
      "Collecting fst-pso (from pyfume->FuzzyTM>=0.4.0->gensim)\n",
      "  Downloading fst-pso-1.8.1.tar.gz (18 kB)\n",
      "  Preparing metadata (setup.py): started\n",
      "  Preparing metadata (setup.py): finished with status 'done'\n",
      "Requirement already satisfied: typing-extensions in c:\\users\\haykel bargugui\\anaconda3\\lib\\site-packages (from pyfume->FuzzyTM>=0.4.0->gensim) (4.7.1)\n",
      "Requirement already satisfied: six>=1.5 in c:\\users\\haykel bargugui\\anaconda3\\lib\\site-packages (from python-dateutil>=2.8.2->pandas->FuzzyTM>=0.4.0->gensim) (1.16.0)\n",
      "Collecting miniful (from fst-pso->pyfume->FuzzyTM>=0.4.0->gensim)\n",
      "  Downloading miniful-0.0.6.tar.gz (2.8 kB)\n",
      "  Preparing metadata (setup.py): started\n",
      "  Preparing metadata (setup.py): finished with status 'done'\n",
      "Downloading FuzzyTM-2.0.9-py3-none-any.whl (31 kB)\n",
      "Downloading pyFUME-0.3.1-py3-none-any.whl (59 kB)\n",
      "   ---------------------------------------- 0.0/59.6 kB ? eta -:--:--\n",
      "   ---------------------------------------- 0.0/59.6 kB ? eta -:--:--\n",
      "   ---------------------------------------- 0.0/59.6 kB ? eta -:--:--\n",
      "   ---------------------------------------- 0.0/59.6 kB ? eta -:--:--\n",
      "   ---------------------------------------- 0.0/59.6 kB ? eta -:--:--\n",
      "   ------ --------------------------------- 10.2/59.6 kB ? eta -:--:--\n",
      "   ------ --------------------------------- 10.2/59.6 kB ? eta -:--:--\n",
      "   ------ --------------------------------- 10.2/59.6 kB ? eta -:--:--\n",
      "   ------ --------------------------------- 10.2/59.6 kB ? eta -:--:--\n",
      "   -------------------- ------------------- 30.7/59.6 kB 100.9 kB/s eta 0:00:01\n",
      "   -------------------- ------------------- 30.7/59.6 kB 100.9 kB/s eta 0:00:01\n",
      "   -------------------- ------------------- 30.7/59.6 kB 100.9 kB/s eta 0:00:01\n",
      "   --------------------------- ------------ 41.0/59.6 kB 85.3 kB/s eta 0:00:01\n",
      "   --------------------------- ------------ 41.0/59.6 kB 85.3 kB/s eta 0:00:01\n",
      "   ---------------------------------------- 59.6/59.6 kB 116.9 kB/s eta 0:00:00\n",
      "Downloading simpful-2.12.0-py3-none-any.whl (24 kB)\n",
      "Building wheels for collected packages: fst-pso, miniful\n",
      "  Building wheel for fst-pso (setup.py): started\n",
      "  Building wheel for fst-pso (setup.py): finished with status 'done'\n",
      "  Created wheel for fst-pso: filename=fst_pso-1.8.1-py3-none-any.whl size=20448 sha256=e2bce107cfd7ff3fab49ee2bd68b95b7187f1e43841f05eae03387bc2ce2b42d\n",
      "  Stored in directory: c:\\users\\haykel bargugui\\appdata\\local\\pip\\cache\\wheels\\69\\f5\\e5\\18ad53fe1ed6b2af9fad05ec052e4acbac8e92441df44bad2e\n",
      "  Building wheel for miniful (setup.py): started\n",
      "  Building wheel for miniful (setup.py): finished with status 'done'\n",
      "  Created wheel for miniful: filename=miniful-0.0.6-py3-none-any.whl size=3522 sha256=9f73780618202d48dddd4aad090d0a8d9026d087ae4d376bf556e0f7a099330e\n",
      "  Stored in directory: c:\\users\\haykel bargugui\\appdata\\local\\pip\\cache\\wheels\\9d\\ff\\2f\\afe4cd56f47de147407705626517d68bea0f3b74eb1fb168e6\n",
      "Successfully built fst-pso miniful\n",
      "Installing collected packages: simpful, miniful, fst-pso, pyfume, FuzzyTM\n",
      "Successfully installed FuzzyTM-2.0.9 fst-pso-1.8.1 miniful-0.0.6 pyfume-0.3.1 simpful-2.12.0\n",
      "Note: you may need to restart the kernel to use updated packages.\n"
     ]
    }
   ],
   "source": [
    "pip install gensim"
   ]
  },
  {
   "cell_type": "code",
   "execution_count": 15,
   "metadata": {
    "id": "B1mo1IVWyRgP"
   },
   "outputs": [],
   "source": [
    "from gensim.models.fasttext import FastText as FT_gensim\n",
    "from gensim.models.fasttext import load_facebook_vectors\n",
    "\n",
    "fasttext_model = load_facebook_vectors(\"C:\\\\Users\\\\HAYKEL BARGUGUI\\\\RNN\\\\cc.en.300.bin\")"
   ]
  },
  {
   "cell_type": "code",
   "execution_count": 30,
   "metadata": {
    "tags": []
   },
   "outputs": [],
   "source": [
    "X_train, X_test, y_train, y_test = train_test_split(X, y,test_size=0.20, random_state=42)"
   ]
  },
  {
   "cell_type": "code",
   "execution_count": 26,
   "metadata": {
    "tags": []
   },
   "outputs": [],
   "source": [
    "tokenizer = Tokenizer(num_words=5000)\n",
    "tokenizer.fit_on_texts(X_train)\n",
    "X_train = tokenizer.texts_to_sequences(X_train)\n",
    "X_test = tokenizer.texts_to_sequences(X_test)"
   ]
  },
  {
   "cell_type": "code",
   "execution_count": 27,
   "metadata": {
    "tags": []
   },
   "outputs": [],
   "source": [
    "from keras.preprocessing.text import Tokenizer\n",
    "from keras.preprocessing.sequence import pad_sequences\n",
    "\n",
    "def create_and_fit_tokenizer(texts, max_words=5000):\n",
    "    tokenizer = Tokenizer(num_words=max_words)\n",
    "    tokenizer.fit_on_texts(texts)\n",
    "    return tokenizer\n",
    "\n",
    "def preprocess_sequences(tokenizer, sequences, maxlen):\n",
    "    sequences = tokenizer.texts_to_sequences(sequences)\n",
    "    padded_sequences = pad_sequences(sequences, padding='post', maxlen=maxlen)\n",
    "    return padded_sequences"
   ]
  },
  {
   "cell_type": "code",
   "execution_count": 28,
   "metadata": {
    "tags": []
   },
   "outputs": [],
   "source": [
    "def create_embedding_matrix(word_index, fasttext_model):\n",
    "    embedding_dim = fasttext_model.vector_size\n",
    "    vocab_size = len(word_index) + 1\n",
    "    embedding_matrix = np.zeros((vocab_size, embedding_dim))\n",
    "    for word, index in word_index.items():\n",
    "        if word in fasttext_model.key_to_index:  # Ensure the word is in FastText model\n",
    "            embedding_matrix[index] = fasttext_model[word]\n",
    "    return embedding_matrix"
   ]
  },
  {
   "cell_type": "code",
   "execution_count": 31,
   "metadata": {
    "tags": []
   },
   "outputs": [
    {
     "name": "stdout",
     "output_type": "stream",
     "text": [
      "92547\n"
     ]
    }
   ],
   "source": [
    "vocab_size = len(tokenizer.word_index) + 1\n",
    "print(vocab_size)\n",
    "maxlen = 100\n",
    "tokenizer = create_and_fit_tokenizer(X_train)\n",
    "X_train = preprocess_sequences(tokenizer, X_train, maxlen)\n",
    "X_test = preprocess_sequences(tokenizer, X_test, maxlen)"
   ]
  },
  {
   "cell_type": "code",
   "execution_count": 32,
   "metadata": {
    "tags": []
   },
   "outputs": [],
   "source": [
    "embedding_matrix_fasttext = create_embedding_matrix(tokenizer.word_index, fasttext_model)\n",
    "vocab_size = len(tokenizer.word_index) + 1\n",
    "embedding_dim = fasttext_model.vector_size"
   ]
  },
  {
   "cell_type": "code",
   "execution_count": 33,
   "metadata": {
    "tags": []
   },
   "outputs": [],
   "source": [
    "import time\n",
    "from keras.models import Sequential\n",
    "from keras.layers import SimpleRNN, Embedding, LSTM, GRU, Conv1D, MaxPooling1D, Flatten, Dense, TimeDistributed\n",
    "from keras.losses import binary_crossentropy\n",
    "from keras.optimizers import Adam\n",
    "from keras import backend as K\n",
    "\n",
    "def train_and_evaluate_modelfasttext(model_type, embedding_matrix, X_train, y_train, X_test, y_test, vocab_size, maxlen, save_path, results_file, embedding_name):\n",
    "    embedding_dim = embedding_matrix.shape[1]\n",
    "    model = Sequential()\n",
    "    model.add(Embedding(vocab_size, embedding_dim, weights=[embedding_matrix], input_length=maxlen, trainable=False))\n",
    "\n",
    "    if model_type == 'lstm':\n",
    "        model.add(LSTM(units=128))\n",
    "    elif model_type == 'gru':\n",
    "        model.add(GRU(units=128))\n",
    "    elif model_type == 'crnn':\n",
    "        model.add(Conv1D(filters=128, kernel_size=5, activation='relu', padding='same'))\n",
    "        model.add(MaxPooling1D(pool_size=2))\n",
    "        model.add(SimpleRNN(units=128, return_sequences=True))\n",
    "        model.add(TimeDistributed(Dense(64)))\n",
    "        model.add(Flatten())\n",
    "\n",
    "    model.add(Dense(units=1, activation='sigmoid'))\n",
    "    model.compile(loss=binary_crossentropy, optimizer='adam', metrics=['acc'])\n",
    "\n",
    "    start_time = time.time()\n",
    "    history = model.fit(X_train, y_train, epochs=10, batch_size=128, verbose=1, validation_split=0.2)\n",
    "    end_time = time.time()\n",
    "    train_time = end_time - start_time\n",
    "    print(f\"Training time for {model_type} : {train_time:.2f} seconds\")\n",
    "\n",
    "    score = model.evaluate(X_test, y_test, verbose=1)\n",
    "    print(f\"Test Loss for {model_type}:\", score[0])\n",
    "    print(f\"Test Accuracy for {model_type}:\", score[1])\n",
    "\n",
    "    # Save the model with the embedding name in the filename\n",
    "    model_save_path = f\"{save_path}/{model_type}_{embedding_name}_model\"\n",
    "    try:\n",
    "        model.save(model_save_path, save_format='tf')\n",
    "        print(f\"Model saved to {model_save_path}\")\n",
    "    except Exception as e:\n",
    "        print(f\"Failed to save model due to: {e}\")\n",
    "\n",
    "    # Write evaluation results to the file\n",
    "    with open(results_file, 'a') as file:\n",
    "        file.write(f\"{model_type} with {embedding_name}: Loss = {score[0]}, Accuracy = {score[1]}\\n\")\n",
    "\n",
    "    K.clear_session()  # Clear session to prevent resource exhaustion\n",
    "\n",
    "    return model, history, score\n"
   ]
  },
  {
   "cell_type": "code",
   "execution_count": 34,
   "metadata": {
    "id": "gpjZwgoKDWZA"
   },
   "outputs": [
    {
     "name": "stdout",
     "output_type": "stream",
     "text": [
      "----------------------------------------------------lstm-----------------------------------------------------\n",
      "WARNING:tensorflow:From C:\\Users\\HAYKEL BARGUGUI\\anaconda3\\Lib\\site-packages\\keras\\src\\backend.py:873: The name tf.get_default_graph is deprecated. Please use tf.compat.v1.get_default_graph instead.\n",
      "\n",
      "WARNING:tensorflow:From C:\\Users\\HAYKEL BARGUGUI\\anaconda3\\Lib\\site-packages\\keras\\src\\optimizers\\__init__.py:309: The name tf.train.Optimizer is deprecated. Please use tf.compat.v1.train.Optimizer instead.\n",
      "\n",
      "Epoch 1/10\n",
      "WARNING:tensorflow:From C:\\Users\\HAYKEL BARGUGUI\\anaconda3\\Lib\\site-packages\\keras\\src\\utils\\tf_utils.py:492: The name tf.ragged.RaggedTensorValue is deprecated. Please use tf.compat.v1.ragged.RaggedTensorValue instead.\n",
      "\n",
      "WARNING:tensorflow:From C:\\Users\\HAYKEL BARGUGUI\\anaconda3\\Lib\\site-packages\\keras\\src\\engine\\base_layer_utils.py:384: The name tf.executing_eagerly_outside_functions is deprecated. Please use tf.compat.v1.executing_eagerly_outside_functions instead.\n",
      "\n",
      "250/250 [==============================] - 42s 152ms/step - loss: 0.5209 - acc: 0.7365 - val_loss: 0.4700 - val_acc: 0.7785\n",
      "Epoch 2/10\n",
      "250/250 [==============================] - 36s 143ms/step - loss: 0.4224 - acc: 0.8071 - val_loss: 0.4336 - val_acc: 0.8012\n",
      "Epoch 3/10\n",
      "250/250 [==============================] - 34s 135ms/step - loss: 0.3973 - acc: 0.8203 - val_loss: 0.3766 - val_acc: 0.8296\n",
      "Epoch 4/10\n",
      "250/250 [==============================] - 36s 144ms/step - loss: 0.3785 - acc: 0.8314 - val_loss: 0.3720 - val_acc: 0.8371\n",
      "Epoch 5/10\n",
      "250/250 [==============================] - 37s 147ms/step - loss: 0.3538 - acc: 0.8442 - val_loss: 0.3706 - val_acc: 0.8284\n",
      "Epoch 6/10\n",
      "250/250 [==============================] - 36s 144ms/step - loss: 0.3388 - acc: 0.8512 - val_loss: 0.3493 - val_acc: 0.8480\n",
      "Epoch 7/10\n",
      "250/250 [==============================] - 35s 139ms/step - loss: 0.3253 - acc: 0.8584 - val_loss: 0.3410 - val_acc: 0.8490\n",
      "Epoch 8/10\n",
      "250/250 [==============================] - 33s 132ms/step - loss: 0.3136 - acc: 0.8628 - val_loss: 0.3332 - val_acc: 0.8576\n",
      "Epoch 9/10\n",
      "250/250 [==============================] - 34s 137ms/step - loss: 0.3049 - acc: 0.8673 - val_loss: 0.3326 - val_acc: 0.8590\n",
      "Epoch 10/10\n",
      "250/250 [==============================] - 36s 146ms/step - loss: 0.2978 - acc: 0.8697 - val_loss: 0.3297 - val_acc: 0.8648\n",
      "Training time for lstm : 358.54 seconds\n",
      "313/313 [==============================] - 9s 28ms/step - loss: 0.3200 - acc: 0.8653\n",
      "Test Loss for lstm: 0.31999820470809937\n",
      "Test Accuracy for lstm: 0.8652999997138977\n",
      "INFO:tensorflow:Assets written to: ./models/lstm_FastText_model\\assets\n"
     ]
    },
    {
     "name": "stderr",
     "output_type": "stream",
     "text": [
      "INFO:tensorflow:Assets written to: ./models/lstm_FastText_model\\assets\n"
     ]
    },
    {
     "name": "stdout",
     "output_type": "stream",
     "text": [
      "Model saved to ./models/lstm_FastText_model\n",
      "----------------------------------------------------gru-----------------------------------------------------\n",
      "Epoch 1/10\n",
      "250/250 [==============================] - 37s 140ms/step - loss: 0.5179 - acc: 0.7347 - val_loss: 0.4396 - val_acc: 0.8062\n",
      "Epoch 2/10\n",
      "250/250 [==============================] - 34s 135ms/step - loss: 0.4053 - acc: 0.8159 - val_loss: 0.4097 - val_acc: 0.8108\n",
      "Epoch 3/10\n",
      "250/250 [==============================] - 34s 137ms/step - loss: 0.3714 - acc: 0.8342 - val_loss: 0.3592 - val_acc: 0.8430\n",
      "Epoch 4/10\n",
      "250/250 [==============================] - 35s 139ms/step - loss: 0.3517 - acc: 0.8440 - val_loss: 0.3490 - val_acc: 0.8481\n",
      "Epoch 5/10\n",
      "250/250 [==============================] - 35s 139ms/step - loss: 0.3362 - acc: 0.8514 - val_loss: 0.3399 - val_acc: 0.8516\n",
      "Epoch 6/10\n",
      "250/250 [==============================] - 34s 137ms/step - loss: 0.3238 - acc: 0.8587 - val_loss: 0.3436 - val_acc: 0.8511\n",
      "Epoch 7/10\n",
      "250/250 [==============================] - 34s 135ms/step - loss: 0.3140 - acc: 0.8645 - val_loss: 0.3692 - val_acc: 0.8436\n",
      "Epoch 8/10\n",
      "250/250 [==============================] - 34s 136ms/step - loss: 0.3061 - acc: 0.8673 - val_loss: 0.3485 - val_acc: 0.8530\n",
      "Epoch 9/10\n",
      "250/250 [==============================] - 34s 135ms/step - loss: 0.2933 - acc: 0.8734 - val_loss: 0.3244 - val_acc: 0.8618\n",
      "Epoch 10/10\n",
      "250/250 [==============================] - 34s 137ms/step - loss: 0.2822 - acc: 0.8794 - val_loss: 0.3284 - val_acc: 0.8586\n",
      "Training time for gru : 344.45 seconds\n",
      "313/313 [==============================] - 6s 20ms/step - loss: 0.3182 - acc: 0.8592\n",
      "Test Loss for gru: 0.31820380687713623\n",
      "Test Accuracy for gru: 0.8592000007629395\n",
      "INFO:tensorflow:Assets written to: ./models/gru_FastText_model\\assets\n"
     ]
    },
    {
     "name": "stderr",
     "output_type": "stream",
     "text": [
      "INFO:tensorflow:Assets written to: ./models/gru_FastText_model\\assets\n"
     ]
    },
    {
     "name": "stdout",
     "output_type": "stream",
     "text": [
      "Model saved to ./models/gru_FastText_model\n",
      "----------------------------------------------------crnn-----------------------------------------------------\n",
      "WARNING:tensorflow:From C:\\Users\\HAYKEL BARGUGUI\\anaconda3\\Lib\\site-packages\\keras\\src\\backend.py:6642: The name tf.nn.max_pool is deprecated. Please use tf.nn.max_pool2d instead.\n",
      "\n"
     ]
    },
    {
     "name": "stderr",
     "output_type": "stream",
     "text": [
      "WARNING:tensorflow:From C:\\Users\\HAYKEL BARGUGUI\\anaconda3\\Lib\\site-packages\\keras\\src\\backend.py:6642: The name tf.nn.max_pool is deprecated. Please use tf.nn.max_pool2d instead.\n",
      "\n"
     ]
    },
    {
     "name": "stdout",
     "output_type": "stream",
     "text": [
      "Epoch 1/10\n",
      "250/250 [==============================] - 17s 61ms/step - loss: 0.5296 - acc: 0.7150 - val_loss: 0.4135 - val_acc: 0.8146\n",
      "Epoch 2/10\n",
      "250/250 [==============================] - 15s 59ms/step - loss: 0.3950 - acc: 0.8232 - val_loss: 0.3825 - val_acc: 0.8309\n",
      "Epoch 3/10\n",
      "250/250 [==============================] - 15s 59ms/step - loss: 0.3408 - acc: 0.8500 - val_loss: 0.4842 - val_acc: 0.7804\n",
      "Epoch 4/10\n",
      "250/250 [==============================] - 15s 59ms/step - loss: 0.2891 - acc: 0.8775 - val_loss: 0.3897 - val_acc: 0.8324\n",
      "Epoch 5/10\n",
      "250/250 [==============================] - 14s 57ms/step - loss: 0.2306 - acc: 0.9060 - val_loss: 0.4030 - val_acc: 0.8334\n",
      "Epoch 6/10\n",
      "250/250 [==============================] - 15s 58ms/step - loss: 0.1689 - acc: 0.9325 - val_loss: 0.5345 - val_acc: 0.8108\n",
      "Epoch 7/10\n",
      "250/250 [==============================] - 14s 58ms/step - loss: 0.1207 - acc: 0.9532 - val_loss: 0.5741 - val_acc: 0.8188\n",
      "Epoch 8/10\n",
      "250/250 [==============================] - 15s 58ms/step - loss: 0.0893 - acc: 0.9649 - val_loss: 0.7193 - val_acc: 0.7861\n",
      "Epoch 9/10\n",
      "250/250 [==============================] - 15s 58ms/step - loss: 0.0579 - acc: 0.9791 - val_loss: 0.7280 - val_acc: 0.8221\n",
      "Epoch 10/10\n",
      "250/250 [==============================] - 15s 58ms/step - loss: 0.0452 - acc: 0.9834 - val_loss: 0.8698 - val_acc: 0.8174\n",
      "Training time for crnn : 148.04 seconds\n",
      "313/313 [==============================] - 2s 8ms/step - loss: 0.8144 - acc: 0.8212\n",
      "Test Loss for crnn: 0.8144423365592957\n",
      "Test Accuracy for crnn: 0.8212000131607056\n",
      "INFO:tensorflow:Assets written to: ./models/crnn_FastText_model\\assets\n"
     ]
    },
    {
     "name": "stderr",
     "output_type": "stream",
     "text": [
      "INFO:tensorflow:Assets written to: ./models/crnn_FastText_model\\assets\n"
     ]
    },
    {
     "name": "stdout",
     "output_type": "stream",
     "text": [
      "Model saved to ./models/crnn_FastText_model\n"
     ]
    }
   ],
   "source": [
    "models = ['lstm', 'gru', 'crnn']\n",
    "embedding_name = 'FastText'\n",
    "save_path = './models'\n",
    "results_file = 'models/models_results.txt'\n",
    "\n",
    "for model_type in models:\n",
    "    print(f\"----------------------------------------------------{model_type}-----------------------------------------------------\")\n",
    "    train_and_evaluate_modelfasttext(\n",
    "        model_type=model_type,\n",
    "        embedding_matrix=embedding_matrix_fasttext,\n",
    "        X_train=X_train,\n",
    "        y_train=y_train,\n",
    "        X_test=X_test,\n",
    "        y_test=y_test,\n",
    "        vocab_size=vocab_size,\n",
    "        maxlen=maxlen,\n",
    "        save_path=save_path,\n",
    "        results_file=results_file,\n",
    "        embedding_name=embedding_name\n",
    "    )"
   ]
  },
  {
   "cell_type": "markdown",
   "metadata": {
    "id": "981fPxoUDXSu",
    "tags": []
   },
   "source": [
    "## **TF-IDF**"
   ]
  },
  {
   "cell_type": "code",
   "execution_count": 10,
   "metadata": {
    "tags": []
   },
   "outputs": [],
   "source": [
    "X_train, X_test, y_train, y_test = train_test_split(X, y,test_size=0.20, random_state=42)"
   ]
  },
  {
   "cell_type": "code",
   "execution_count": 12,
   "metadata": {
    "id": "sqrZnP3FyWhW",
    "tags": []
   },
   "outputs": [],
   "source": [
    "from sklearn.feature_extraction.text import TfidfVectorizer\n",
    "\n",
    "vectorizer = TfidfVectorizer(max_features=10000)  \n",
    "\n",
    "X_train = vectorizer.fit_transform(X_train).toarray()\n",
    "\n",
    "X_test = vectorizer.transform(X_test).toarray()\n",
    "\n",
    "vocab_size = X_train.shape[1]"
   ]
  },
  {
   "cell_type": "code",
   "execution_count": 14,
   "metadata": {
    "tags": []
   },
   "outputs": [
    {
     "name": "stdout",
     "output_type": "stream",
     "text": [
      "10000\n"
     ]
    }
   ],
   "source": [
    "print(X_train.shape[1])"
   ]
  },
  {
   "cell_type": "code",
   "execution_count": 32,
   "metadata": {},
   "outputs": [],
   "source": [
    "def train_and_evaluate_model(model_type, X_train, y_train, X_test, y_test, save_path, results_file):\n",
    "    model = Sequential()\n",
    "    \n",
    "    model.add(Dense(128, activation='relu', input_shape=(X_train.shape[1],)))\n",
    "    model.add(Reshape((128, 1)))  \n",
    "    if model_type == 'lstm':\n",
    "        model.add(LSTM(units=128))\n",
    "    elif model_type == 'gru':\n",
    "        model.add(GRU(units=128))\n",
    "    elif model_type == 'crnn':\n",
    "        model.add(Conv1D(filters=128, kernel_size=3, activation='relu', padding='same'))\n",
    "        model.add(SimpleRNN(units=128, return_sequences=True))  \n",
    "        model.add(GlobalMaxPooling1D())  \n",
    "        model.add(Dense(64, activation='relu'))  \n",
    "\n",
    "    model.add(Dense(1, activation='sigmoid'))\n",
    "    model.compile(loss=binary_crossentropy, optimizer=Adam(), metrics=['accuracy'])\n",
    "\n",
    "    start_time = time.time()\n",
    "    history = model.fit(X_train, y_train, epochs=10, batch_size=128, verbose=1, validation_split=0.2)\n",
    "    end_time = time.time()\n",
    "    train_time = end_time - start_time\n",
    "    print(f\"Training time for {model_type}: {train_time:.2f} seconds\")\n",
    "\n",
    "    score = model.evaluate(X_test, y_test, verbose=1)\n",
    "    print(f\"Test Loss for {model_type}: {score[0]}\")\n",
    "    print(f\"Test Accuracy for {model_type}: {score[1]}\")\n",
    "\n",
    "    model_save_path = f\"{save_path}/{model_type}_tfidf_model.h5\"\n",
    "    model.save(model_save_path)\n",
    "    print(f\"Model saved to {model_save_path}\")\n",
    "\n",
    "    with open(results_file, 'a') as file:\n",
    "        file.write(f\"{model_type} with TF-IDF: Loss = {score[0]}, Accuracy = {score[1]}\\n\")\n",
    "\n",
    "    return model, history, score\n"
   ]
  },
  {
   "cell_type": "code",
   "execution_count": 34,
   "metadata": {
    "id": "fNupMvjmDik9"
   },
   "outputs": [
    {
     "name": "stdout",
     "output_type": "stream",
     "text": [
      "------------------------------lstm-------------------------\n",
      "Epoch 1/10\n",
      "250/250 [==============================] - 30s 111ms/step - loss: 0.4314 - accuracy: 0.7728 - val_loss: 0.2861 - val_accuracy: 0.8945\n",
      "Epoch 2/10\n",
      "250/250 [==============================] - 26s 106ms/step - loss: 0.2148 - accuracy: 0.9231 - val_loss: 0.2759 - val_accuracy: 0.8866\n",
      "Epoch 3/10\n",
      "250/250 [==============================] - 26s 106ms/step - loss: 0.1527 - accuracy: 0.9478 - val_loss: 0.2872 - val_accuracy: 0.8871\n",
      "Epoch 4/10\n",
      "250/250 [==============================] - 27s 109ms/step - loss: 0.1009 - accuracy: 0.9683 - val_loss: 0.3427 - val_accuracy: 0.8813\n",
      "Epoch 5/10\n",
      "250/250 [==============================] - 26s 104ms/step - loss: 0.0664 - accuracy: 0.9787 - val_loss: 0.5116 - val_accuracy: 0.8810\n",
      "Epoch 6/10\n",
      "250/250 [==============================] - 27s 107ms/step - loss: 0.0518 - accuracy: 0.9845 - val_loss: 0.5209 - val_accuracy: 0.8748\n",
      "Epoch 7/10\n",
      "250/250 [==============================] - 27s 106ms/step - loss: 0.0327 - accuracy: 0.9887 - val_loss: 0.5800 - val_accuracy: 0.8740\n",
      "Epoch 8/10\n",
      "250/250 [==============================] - 26s 106ms/step - loss: 0.0243 - accuracy: 0.9919 - val_loss: 0.7248 - val_accuracy: 0.8742\n",
      "Epoch 9/10\n",
      "250/250 [==============================] - 27s 107ms/step - loss: 0.0158 - accuracy: 0.9950 - val_loss: 0.7523 - val_accuracy: 0.8711\n",
      "Epoch 10/10\n",
      "250/250 [==============================] - 27s 107ms/step - loss: 0.0289 - accuracy: 0.9920 - val_loss: 0.6399 - val_accuracy: 0.8717\n",
      "Training time for lstm: 269.74 seconds\n",
      "313/313 [==============================] - 7s 21ms/step - loss: 0.6441 - accuracy: 0.8687\n",
      "Test Loss for lstm: 0.6441471576690674\n",
      "Test Accuracy for lstm: 0.8687000274658203\n",
      "Model saved to ./models/lstm_tfidf_model.h5\n",
      "------------------------------gru-------------------------\n",
      "Epoch 1/10\n",
      "250/250 [==============================] - 27s 100ms/step - loss: 0.4062 - accuracy: 0.8101 - val_loss: 0.2585 - val_accuracy: 0.8920\n",
      "Epoch 2/10\n",
      "250/250 [==============================] - 24s 97ms/step - loss: 0.1951 - accuracy: 0.9268 - val_loss: 0.2768 - val_accuracy: 0.8867\n",
      "Epoch 3/10\n",
      "250/250 [==============================] - 24s 96ms/step - loss: 0.1453 - accuracy: 0.9460 - val_loss: 0.3057 - val_accuracy: 0.8827\n",
      "Epoch 4/10\n",
      "250/250 [==============================] - 24s 95ms/step - loss: 0.1022 - accuracy: 0.9623 - val_loss: 0.4184 - val_accuracy: 0.8676\n",
      "Epoch 5/10\n",
      "250/250 [==============================] - 24s 95ms/step - loss: 0.0689 - accuracy: 0.9753 - val_loss: 0.4792 - val_accuracy: 0.8736\n",
      "Epoch 6/10\n",
      "250/250 [==============================] - 24s 97ms/step - loss: 0.0831 - accuracy: 0.9729 - val_loss: 0.5182 - val_accuracy: 0.8716\n",
      "Epoch 7/10\n",
      "250/250 [==============================] - 24s 98ms/step - loss: 0.0349 - accuracy: 0.9886 - val_loss: 0.6651 - val_accuracy: 0.8698\n",
      "Epoch 8/10\n",
      "250/250 [==============================] - 25s 99ms/step - loss: 0.0225 - accuracy: 0.9927 - val_loss: 0.6527 - val_accuracy: 0.8724\n",
      "Epoch 9/10\n",
      "250/250 [==============================] - 24s 98ms/step - loss: 0.0136 - accuracy: 0.9960 - val_loss: 0.7390 - val_accuracy: 0.8698\n",
      "Epoch 10/10\n",
      "250/250 [==============================] - 24s 95ms/step - loss: 0.0119 - accuracy: 0.9960 - val_loss: 0.8314 - val_accuracy: 0.8704\n",
      "Training time for gru: 245.31 seconds\n",
      "313/313 [==============================] - 4s 14ms/step - loss: 0.8189 - accuracy: 0.8702\n",
      "Test Loss for gru: 0.8188530206680298\n",
      "Test Accuracy for gru: 0.870199978351593\n",
      "Model saved to ./models/gru_tfidf_model.h5\n",
      "------------------------------crnn-------------------------\n",
      "Epoch 1/10\n",
      "250/250 [==============================] - 17s 59ms/step - loss: 0.4552 - accuracy: 0.7763 - val_loss: 0.2972 - val_accuracy: 0.8791\n",
      "Epoch 2/10\n",
      "250/250 [==============================] - 14s 57ms/step - loss: 0.2263 - accuracy: 0.9178 - val_loss: 0.2970 - val_accuracy: 0.8800\n",
      "Epoch 3/10\n",
      "250/250 [==============================] - 14s 56ms/step - loss: 0.1630 - accuracy: 0.9443 - val_loss: 0.3368 - val_accuracy: 0.8766\n",
      "Epoch 4/10\n",
      "250/250 [==============================] - 14s 57ms/step - loss: 0.1168 - accuracy: 0.9608 - val_loss: 0.3707 - val_accuracy: 0.8763\n",
      "Epoch 5/10\n",
      "250/250 [==============================] - 14s 57ms/step - loss: 0.0821 - accuracy: 0.9736 - val_loss: 0.4742 - val_accuracy: 0.8755\n",
      "Epoch 6/10\n",
      "250/250 [==============================] - 14s 57ms/step - loss: 0.0645 - accuracy: 0.9795 - val_loss: 0.4828 - val_accuracy: 0.8755\n",
      "Epoch 7/10\n",
      "250/250 [==============================] - 14s 56ms/step - loss: 0.0464 - accuracy: 0.9850 - val_loss: 0.5940 - val_accuracy: 0.8675\n",
      "Epoch 8/10\n",
      "250/250 [==============================] - 14s 56ms/step - loss: 0.0500 - accuracy: 0.9842 - val_loss: 0.6024 - val_accuracy: 0.8596\n",
      "Epoch 9/10\n",
      "250/250 [==============================] - 14s 56ms/step - loss: 0.0284 - accuracy: 0.9902 - val_loss: 0.6633 - val_accuracy: 0.8721\n",
      "Epoch 10/10\n",
      "250/250 [==============================] - 14s 56ms/step - loss: 0.0147 - accuracy: 0.9954 - val_loss: 0.7163 - val_accuracy: 0.8698\n",
      "Training time for crnn: 145.05 seconds\n",
      "313/313 [==============================] - 2s 8ms/step - loss: 0.6989 - accuracy: 0.8710\n",
      "Test Loss for crnn: 0.6989092826843262\n",
      "Test Accuracy for crnn: 0.8709999918937683\n",
      "Model saved to ./models/crnn_tfidf_model.h5\n"
     ]
    }
   ],
   "source": [
    "save_path = './models'\n",
    "results_file = './models/model_results.txt'\n",
    "\n",
    "models = ['lstm','gru','crnn']\n",
    "for model_type in models:\n",
    "    print(f\"----------------------------------------------------{model_type}-----------------------------------------------------\")\n",
    "    model, history, score = train_and_evaluate_model(\n",
    "        model_type=model_type, \n",
    "        X_train=X_train, \n",
    "        y_train=y_train, \n",
    "        X_test=X_test, \n",
    "        y_test=y_test, \n",
    "        save_path=save_path, \n",
    "        results_file=results_file)"
   ]
  }
 ],
 "metadata": {
  "accelerator": "GPU",
  "colab": {
   "collapsed_sections": [
    "Uc0HfpYWZE8a",
    "2c5o4fYf8Nev",
    "f3GpX0k28Jls",
    "DqhARAX5-dfG",
    "zP2HtW-bF16L"
   ],
   "gpuType": "T4",
   "provenance": []
  },
  "kernelspec": {
   "display_name": "Python 3 (ipykernel)",
   "language": "python",
   "name": "python3"
  },
  "language_info": {
   "codemirror_mode": {
    "name": "ipython",
    "version": 3
   },
   "file_extension": ".py",
   "mimetype": "text/x-python",
   "name": "python",
   "nbconvert_exporter": "python",
   "pygments_lexer": "ipython3",
   "version": "3.12.2"
  }
 },
 "nbformat": 4,
 "nbformat_minor": 4
}
